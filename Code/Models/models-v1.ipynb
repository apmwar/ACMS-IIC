{
 "cells": [
  {
   "cell_type": "markdown",
   "metadata": {},
   "source": [
    "# ML Model to predict the AWS Product"
   ]
  },
  {
   "cell_type": "markdown",
   "metadata": {},
   "source": [
    "### Import the necessary libraries"
   ]
  },
  {
   "cell_type": "code",
   "execution_count": 1,
   "metadata": {},
   "outputs": [
    {
     "name": "stderr",
     "output_type": "stream",
     "text": [
      "[nltk_data] Downloading package stopwords to\n",
      "[nltk_data]     C:\\Users\\Aruna\\AppData\\Roaming\\nltk_data...\n",
      "[nltk_data]   Package stopwords is already up-to-date!\n",
      "[nltk_data] Downloading package names to\n",
      "[nltk_data]     C:\\Users\\Aruna\\AppData\\Roaming\\nltk_data...\n",
      "[nltk_data]   Package names is already up-to-date!\n"
     ]
    }
   ],
   "source": [
    "import string\n",
    "import re\n",
    "import nltk\n",
    "import pandas as pd\n",
    "import csv\n",
    "\n",
    "from bs4 import BeautifulSoup\n",
    "\n",
    "nltk.download('stopwords')\n",
    "nltk.download('names')\n",
    "from nltk.corpus import stopwords\n",
    "from nltk.corpus import names\n",
    "from nltk import word_tokenize"
   ]
  },
  {
   "cell_type": "code",
   "execution_count": 2,
   "metadata": {},
   "outputs": [],
   "source": [
    "import matplotlib.pyplot as plt\n",
    "import seaborn as sns\n",
    "from wordcloud import WordCloud, STOPWORDS, ImageColorGenerator\n",
    "\n",
    "%matplotlib inline\n",
    "pd.set_option('display.max_colwidth', 150)"
   ]
  },
  {
   "cell_type": "markdown",
   "metadata": {},
   "source": [
    "### (A) Read the CSV file"
   ]
  },
  {
   "cell_type": "code",
   "execution_count": 3,
   "metadata": {
    "scrolled": false
   },
   "outputs": [
    {
     "data": {
      "text/html": [
       "<div>\n",
       "<style scoped>\n",
       "    .dataframe tbody tr th:only-of-type {\n",
       "        vertical-align: middle;\n",
       "    }\n",
       "\n",
       "    .dataframe tbody tr th {\n",
       "        vertical-align: top;\n",
       "    }\n",
       "\n",
       "    .dataframe thead th {\n",
       "        text-align: right;\n",
       "    }\n",
       "</style>\n",
       "<table border=\"1\" class=\"dataframe\">\n",
       "  <thead>\n",
       "    <tr style=\"text-align: right;\">\n",
       "      <th></th>\n",
       "      <th>id</th>\n",
       "      <th>label</th>\n",
       "      <th>description</th>\n",
       "    </tr>\n",
       "  </thead>\n",
       "  <tbody>\n",
       "    <tr>\n",
       "      <th>0</th>\n",
       "      <td>1737.0</td>\n",
       "      <td>Amazon SNS</td>\n",
       "      <td>sms failure delivery retrieval detailed sms log using service sms notification event failed sms get acknowledgment containing detailed log object ...</td>\n",
       "    </tr>\n",
       "    <tr>\n",
       "      <th>1</th>\n",
       "      <td>1736.0</td>\n",
       "      <td>Amazon SNS</td>\n",
       "      <td>messages coming multiple accounts single sms short code use simple notification service send transactional sms messages clients requested notifica...</td>\n",
       "    </tr>\n",
       "    <tr>\n",
       "      <th>2</th>\n",
       "      <td>1735.0</td>\n",
       "      <td>Amazon SNS</td>\n",
       "      <td>android fcm support unity plugin unity plug-in build android due use depricated gcm api awsunitygcmwrapper ever going update plug-in builds fcm an...</td>\n",
       "    </tr>\n",
       "    <tr>\n",
       "      <th>3</th>\n",
       "      <td>1734.0</td>\n",
       "      <td>Amazon SNS</td>\n",
       "      <td>otp message delivery issue facing issue otp message delivery production environment mix behavior 1. message getting delivered 2. message delivered...</td>\n",
       "    </tr>\n",
       "    <tr>\n",
       "      <th>4</th>\n",
       "      <td>1733.0</td>\n",
       "      <td>Amazon SNS</td>\n",
       "      <td>simulating message persistence using sqs evaluating messaging requirements integrate multiple applications single producer publishes messages mult...</td>\n",
       "    </tr>\n",
       "    <tr>\n",
       "      <th>5</th>\n",
       "      <td>1732.0</td>\n",
       "      <td>Amazon SNS</td>\n",
       "      <td>sms messages delivered trying send sms messages via quite messages sent number delivered enabled cloudwatch logging shows correct entries provider...</td>\n",
       "    </tr>\n",
       "    <tr>\n",
       "      <th>6</th>\n",
       "      <td>1731.0</td>\n",
       "      <td>Amazon SNS</td>\n",
       "      <td>sms delivery fails phone currently unreachable/unavailable started observing behaviour today used work last week sms deliveries including messages...</td>\n",
       "    </tr>\n",
       "    <tr>\n",
       "      <th>7</th>\n",
       "      <td>1730.0</td>\n",
       "      <td>Amazon SNS</td>\n",
       "      <td>budget alert message sample implementing receive message budget alert created billing panel find place web sample message looks like chance one me...</td>\n",
       "    </tr>\n",
       "    <tr>\n",
       "      <th>8</th>\n",
       "      <td>1730.0</td>\n",
       "      <td>Amazon SNS</td>\n",
       "      <td>page configure test event option select event teplate look topic notification create entire test message json format looks like records eventsourc...</td>\n",
       "    </tr>\n",
       "    <tr>\n",
       "      <th>9</th>\n",
       "      <td>1729.0</td>\n",
       "      <td>Amazon SNS</td>\n",
       "      <td>mobile push endpoints use default content instead apns recently diving mobile push api registered many ios clients correct topics node.js server s...</td>\n",
       "    </tr>\n",
       "  </tbody>\n",
       "</table>\n",
       "</div>"
      ],
      "text/plain": [
       "       id       label  \\\n",
       "0  1737.0  Amazon SNS   \n",
       "1  1736.0  Amazon SNS   \n",
       "2  1735.0  Amazon SNS   \n",
       "3  1734.0  Amazon SNS   \n",
       "4  1733.0  Amazon SNS   \n",
       "5  1732.0  Amazon SNS   \n",
       "6  1731.0  Amazon SNS   \n",
       "7  1730.0  Amazon SNS   \n",
       "8  1730.0  Amazon SNS   \n",
       "9  1729.0  Amazon SNS   \n",
       "\n",
       "                                                                                                                                             description  \n",
       "0  sms failure delivery retrieval detailed sms log using service sms notification event failed sms get acknowledgment containing detailed log object ...  \n",
       "1  messages coming multiple accounts single sms short code use simple notification service send transactional sms messages clients requested notifica...  \n",
       "2  android fcm support unity plugin unity plug-in build android due use depricated gcm api awsunitygcmwrapper ever going update plug-in builds fcm an...  \n",
       "3  otp message delivery issue facing issue otp message delivery production environment mix behavior 1. message getting delivered 2. message delivered...  \n",
       "4  simulating message persistence using sqs evaluating messaging requirements integrate multiple applications single producer publishes messages mult...  \n",
       "5  sms messages delivered trying send sms messages via quite messages sent number delivered enabled cloudwatch logging shows correct entries provider...  \n",
       "6  sms delivery fails phone currently unreachable/unavailable started observing behaviour today used work last week sms deliveries including messages...  \n",
       "7  budget alert message sample implementing receive message budget alert created billing panel find place web sample message looks like chance one me...  \n",
       "8  page configure test event option select event teplate look topic notification create entire test message json format looks like records eventsourc...  \n",
       "9  mobile push endpoints use default content instead apns recently diving mobile push api registered many ios clients correct topics node.js server s...  "
      ]
     },
     "execution_count": 3,
     "metadata": {},
     "output_type": "execute_result"
    }
   ],
   "source": [
    "df = pd.read_csv('C:\\\\Users\\\\Aruna\\\\Documents\\\\ACMS-IID\\\\data\\\\cleandata.csv')\n",
    "df['description'] = df['description'].apply(lambda x: \" \".join(x for x in str(x).split()))\n",
    "df.head(10)"
   ]
  },
  {
   "cell_type": "markdown",
   "metadata": {},
   "source": [
    "#### Check the spread of tags in the data"
   ]
  },
  {
   "cell_type": "code",
   "execution_count": 4,
   "metadata": {},
   "outputs": [
    {
     "name": "stdout",
     "output_type": "stream",
     "text": [
      "<class 'pandas.core.frame.DataFrame'>\n",
      "RangeIndex: 464373 entries, 0 to 464372\n",
      "Data columns (total 3 columns):\n",
      "id             464371 non-null float64\n",
      "label          464373 non-null object\n",
      "description    464373 non-null object\n",
      "dtypes: float64(1), object(2)\n",
      "memory usage: 10.6+ MB\n"
     ]
    }
   ],
   "source": [
    "df.info()"
   ]
  },
  {
   "cell_type": "code",
   "execution_count": 5,
   "metadata": {},
   "outputs": [
    {
     "data": {
      "text/plain": [
       "count         464373\n",
       "unique             8\n",
       "top       Amazon EC2\n",
       "freq          295113\n",
       "Name: label, dtype: object"
      ]
     },
     "execution_count": 5,
     "metadata": {},
     "output_type": "execute_result"
    }
   ],
   "source": [
    "df['label'].describe()"
   ]
  },
  {
   "cell_type": "code",
   "execution_count": 6,
   "metadata": {},
   "outputs": [
    {
     "data": {
      "image/png": "[encoded data removed]",
      "text/plain": [
       "<Figure size 720x288 with 1 Axes>"
      ]
     },
     "metadata": {
      "needs_background": "light"
     },
     "output_type": "display_data"
    }
   ],
   "source": [
    "plt.figure(figsize=(10,4))\n",
    "df.label.value_counts().plot(kind='bar');"
   ]
  },
  {
   "cell_type": "markdown",
   "metadata": {},
   "source": [
    "#### Check out one sample post"
   ]
  },
  {
   "cell_type": "code",
   "execution_count": 7,
   "metadata": {},
   "outputs": [
    {
     "data": {
      "text/plain": [
       "\"sms failure delivery retrieval detailed sms log using service sms notification event failed sms get acknowledgment containing detailed log object atleast providerresponse fix sms failure delivery failure reasons occurred delivery ttl expired quota left account unknown error attempting reach phone error log available console notification messageid exxxx8ad-4bc5-5fe4-ae28-cdf8xxxx timestamp 2019-05-15 11:07:46.913 delivery phonecarrier bharti airtel maharashtra mnc 90 destination +9189xxxxxxxx priceinusd 0.00223 smstype transactional mcc 404 providerresponse delivery ttl expired dwelltimems 114 dwelltimemsuntildeviceack 5472 status failure present get based code snippet response service messageid d5212bf1-9183-5da4-826e-7e96a48xxxxx data.providerresponse undefined delivery undefined json.stringify responsemetadata requestid 5d9bxxx9-319d-52b4-8979-xxxxxxxx messageid d521xxxxf1-91xx-5da4-826e-xxxxxxxx code snippet exports.sendsms function msg phonenumber phonenumber +91 phonenumber setmessageattributes createsubscription phonenumber var params message msg phonenumber phonenumber // create promise service object var publishtextpromise sns.publish params .promise // handle promise 's fulfilled/rejected states publishtextpromise.then function data console.log messageid sms sent data.messageid console.log data.providerresponse data.providerresponse console.log delivery data.delivery console.log json.stringify json.stringify data .catch function err console.error err err.stack function setmessageattributes var messageparams attributes 'defaultsmstype 'transactional 'defaultsenderid 'devcare function createsubscription endpoint // create subscribe/email parameters var subscribeparams protocol 'sms topicarn 'arn us-east-1 xxxxxxx us-xxxx endpoint endpoint help fix\""
      ]
     },
     "execution_count": 7,
     "metadata": {},
     "output_type": "execute_result"
    }
   ],
   "source": [
    "df['description'][0]"
   ]
  },
  {
   "cell_type": "markdown",
   "metadata": {},
   "source": [
    "#### Top 30 words + frequency of each:"
   ]
  },
  {
   "cell_type": "code",
   "execution_count": 8,
   "metadata": {},
   "outputs": [
    {
     "data": {
      "text/plain": [
       "instance     397121\n",
       "http         162376\n",
       "using        104233\n",
       "server        97012\n",
       "instances     95161\n",
       "new           88174\n",
       "error         87124\n",
       "get           83666\n",
       "use           79977\n",
       "one           76201\n",
       "ip            73896\n",
       "issue         73486\n",
       "ms            72860\n",
       "running       70945\n",
       "see           69245\n",
       "file          69201\n",
       "like          66294\n",
       "time          64526\n",
       "problem       64398\n",
       "need          63583\n",
       "ami           59495\n",
       "help          59452\n",
       "access        58326\n",
       "also          58101\n",
       "volume        56532\n",
       "data          54349\n",
       "able          50244\n",
       "still         49117\n",
       "ebs           45135\n",
       "set           44383\n",
       "dtype: int64"
      ]
     },
     "execution_count": 8,
     "metadata": {},
     "output_type": "execute_result"
    }
   ],
   "source": [
    "freq = pd.Series(' '.join(df['description']).split()).value_counts()[:30]\n",
    "freq"
   ]
  },
  {
   "cell_type": "code",
   "execution_count": 9,
   "metadata": {},
   "outputs": [
    {
     "name": "stdout",
     "output_type": "stream",
     "text": [
      "There are totally 20397938 words before cleaning.\n"
     ]
    }
   ],
   "source": [
    "print(\"There are totally\", df['description'].apply(lambda x: len(x.split(' '))).sum(), \"words before cleaning.\")"
   ]
  },
  {
   "cell_type": "markdown",
   "metadata": {},
   "source": [
    "### (B) Text Pre-processing"
   ]
  },
  {
   "cell_type": "code",
   "execution_count": null,
   "metadata": {},
   "outputs": [],
   "source": [
    "REPLACE_BY_SPACE_RE = re.compile('[/(){}\\[\\]\\|@,:;.]')\n",
    "\n",
    "BAD_SYMBOLS_RE = re.compile('[^0-9a-z #+_]')\n",
    "\n",
    "STOPWORDS = stopwords.words('english')\n",
    "\n",
    "my_stop_words = [\"hi\", \"hello\", \"regards\", \"thank\", \"thanks\", \"regard\", \"best\", \"wishes\", \"hey\", \"my\", \"do\", \"did\",\n",
    "                 \"does\", \"had\", \"have\", \"has\", \"could\", \"can\", \"as\", \"is\", \"shall\", \"should\", \"would\", \"will\", \"you\",\n",
    "                 \"me\", \"please\", \"know\", \"who\", \"we\", \"was\", \"were\", \"they\"]\n",
    "\n",
    "name = names.words()\n",
    "STOPWORDS.extend(my_stop_words)\n",
    "STOPWORDS.extend(name)"
   ]
  },
  {
   "cell_type": "code",
   "execution_count": null,
   "metadata": {},
   "outputs": [],
   "source": [
    "def cleantext(text):\n",
    "    \n",
    "    # step 1 convert the text to lowercase\n",
    "    text = text.lower()\n",
    "    \n",
    "    # step 2 remove all the html tags\n",
    "    text = BeautifulSoup(text, \"lxml\").text\n",
    "    \n",
    "    # step 3 replace unwanted symbols by space\n",
    "    text = REPLACE_BY_SPACE_RE.sub(' ', text)\n",
    "    \n",
    "    # step 4 remove some symbols\n",
    "    text = BAD_SYMBOLS_RE.sub('', text)\n",
    "    \n",
    "    #step 5 remove the stop words\n",
    "    text = \" \".join(x for x in text.split() if x not in STOPWORDS and len(x) > 1)\n",
    "    \n",
    "    return text"
   ]
  },
  {
   "cell_type": "code",
   "execution_count": null,
   "metadata": {},
   "outputs": [],
   "source": [
    "df['post'] = df['post'].apply(cleantext)\n",
    "\n",
    "\n",
    "df['post'].head(20)"
   ]
  },
  {
   "cell_type": "markdown",
   "metadata": {},
   "source": [
    "#### Top 30 words + frequency of occurence:"
   ]
  },
  {
   "cell_type": "code",
   "execution_count": null,
   "metadata": {},
   "outputs": [],
   "source": [
    "freq = pd.Series(' '.join(df['post']).split()).value_counts()[:30]\n",
    "freq"
   ]
  },
  {
   "cell_type": "code",
   "execution_count": null,
   "metadata": {},
   "outputs": [],
   "source": [
    "print(\"There are totally\", df['post'].apply(lambda x: len(x.split(' '))).sum(), \"words after cleaning.\")"
   ]
  },
  {
   "cell_type": "markdown",
   "metadata": {},
   "source": [
    "### (C) Feature Engineering & Model Deployment"
   ]
  },
  {
   "cell_type": "code",
   "execution_count": 10,
   "metadata": {},
   "outputs": [],
   "source": [
    "from sklearn.model_selection import train_test_split\n",
    "\n",
    "X = df['description']\n",
    "y = df['label']\n",
    "X_train, X_test, y_train, y_test = train_test_split(X, y, test_size=0.3, random_state = 42)"
   ]
  },
  {
   "cell_type": "code",
   "execution_count": 11,
   "metadata": {},
   "outputs": [],
   "source": [
    "from sklearn.naive_bayes import MultinomialNB\n",
    "from sklearn.pipeline import Pipeline\n",
    "from sklearn.feature_extraction.text import TfidfVectorizer\n",
    "\n",
    "from sklearn.metrics import classification_report\n",
    "from sklearn.metrics import accuracy_score\n",
    "from sklearn.metrics import confusion_matrix"
   ]
  },
  {
   "cell_type": "markdown",
   "metadata": {},
   "source": [
    "## Naive Bayes Classifier for Multinomial Models"
   ]
  },
  {
   "cell_type": "code",
   "execution_count": 12,
   "metadata": {},
   "outputs": [
    {
     "data": {
      "text/plain": [
       "Pipeline(memory=None,\n",
       "     steps=[('vect', TfidfVectorizer(analyzer='word', binary=False, decode_error='strict',\n",
       "        dtype=<class 'numpy.float64'>, encoding='utf-8', input='content',\n",
       "        lowercase=True, max_df=1.0, max_features=None, min_df=1,\n",
       "        ngram_range=(1, 1), norm='l2', preprocessor=None, smooth_idf=True,\n",
       "...rue,\n",
       "        vocabulary=None)), ('clf', MultinomialNB(alpha=1.0, class_prior=None, fit_prior=True))])"
      ]
     },
     "execution_count": 12,
     "metadata": {},
     "output_type": "execute_result"
    }
   ],
   "source": [
    "nb = Pipeline([('vect', TfidfVectorizer()), ('clf', MultinomialNB())])\n",
    "\n",
    "nb.fit(X_train, y_train)"
   ]
  },
  {
   "cell_type": "code",
   "execution_count": 13,
   "metadata": {},
   "outputs": [
    {
     "name": "stdout",
     "output_type": "stream",
     "text": [
      "[[   92  5375     0     0     0   308     0     0]\n",
      " [    1 88551     3     0     9    29     0     1]\n",
      " [    0  6514   113     0     5     5     0     0]\n",
      " [    0  2673     1     5     1    35     0     0]\n",
      " [    0 11064     0     0   691     0     0     0]\n",
      " [    1 13464     0     0     0  2542     0     0]\n",
      " [    0  1420     0     0     0     5     1     0]\n",
      " [    0  6372     0     0     0     2     0    29]]\n",
      "                          precision    recall  f1-score   support\n",
      "\n",
      "       Amazon CloudFront       0.98      0.02      0.03      5775\n",
      "              Amazon EC2       0.65      1.00      0.79     88594\n",
      "Amazon Elastic Beanstalk       0.97      0.02      0.03      6637\n",
      "           Amazon Lambda       1.00      0.00      0.00      2715\n",
      "              Amazon RDS       0.98      0.06      0.11     11755\n",
      "               Amazon S3       0.87      0.16      0.27     16007\n",
      "              Amazon SNS       1.00      0.00      0.00      1426\n",
      "              Amazon VPC       0.97      0.00      0.01      6403\n",
      "\n",
      "               micro avg       0.66      0.66      0.66    139312\n",
      "               macro avg       0.93      0.16      0.16    139312\n",
      "            weighted avg       0.76      0.66      0.55    139312\n",
      "\n",
      "accuracy: 0.660560468588492\n"
     ]
    }
   ],
   "source": [
    "predictions = nb.predict(X_test)\n",
    "\n",
    "print(confusion_matrix(y_test,predictions))\n",
    "print(classification_report(y_test, predictions))\n",
    "print('accuracy:', accuracy_score(predictions, y_test))"
   ]
  },
  {
   "cell_type": "markdown",
   "metadata": {},
   "source": [
    "## LogisticRegression Model"
   ]
  },
  {
   "cell_type": "code",
   "execution_count": 14,
   "metadata": {},
   "outputs": [
    {
     "name": "stderr",
     "output_type": "stream",
     "text": [
      "C:\\Users\\Aruna\\Anaconda3\\lib\\site-packages\\sklearn\\linear_model\\logistic.py:433: FutureWarning: Default solver will be changed to 'lbfgs' in 0.22. Specify a solver to silence this warning.\n",
      "  FutureWarning)\n",
      "C:\\Users\\Aruna\\Anaconda3\\lib\\site-packages\\sklearn\\linear_model\\logistic.py:460: FutureWarning: Default multi_class will be changed to 'auto' in 0.22. Specify the multi_class option to silence this warning.\n",
      "  \"this warning.\", FutureWarning)\n"
     ]
    },
    {
     "data": {
      "text/plain": [
       "Pipeline(memory=None,\n",
       "     steps=[('vect', TfidfVectorizer(analyzer='word', binary=False, decode_error='strict',\n",
       "        dtype=<class 'numpy.float64'>, encoding='utf-8', input='content',\n",
       "        lowercase=True, max_df=1.0, max_features=None, min_df=1,\n",
       "        ngram_range=(1, 1), norm='l2', preprocessor=None, smooth_idf=True,\n",
       "...penalty='l2', random_state=None, solver='warn', tol=0.0001,\n",
       "          verbose=0, warm_start=False))])"
      ]
     },
     "execution_count": 14,
     "metadata": {},
     "output_type": "execute_result"
    }
   ],
   "source": [
    "from sklearn.linear_model import LogisticRegression\n",
    "\n",
    "logreg = Pipeline([('vect', TfidfVectorizer()), ('clf', LogisticRegression(n_jobs = 1))])\n",
    "\n",
    "logreg.fit(X_train, y_train)"
   ]
  },
  {
   "cell_type": "code",
   "execution_count": 15,
   "metadata": {},
   "outputs": [
    {
     "name": "stdout",
     "output_type": "stream",
     "text": [
      "[[ 3263  1625    11    24    50   797     0     5]\n",
      " [  126 85695   411    54   680   981    35   612]\n",
      " [   19  2467  3843    22   114   129     9    34]\n",
      " [   36   860    67  1491    47   161    21    32]\n",
      " [    6  3917    47    19  7571   100    10    85]\n",
      " [  304  4455    44    51    77 11051    10    15]\n",
      " [    5   456    12    18    17    70   847     1]\n",
      " [    3  2820    28     9    81    40     3  3419]]\n",
      "                          precision    recall  f1-score   support\n",
      "\n",
      "       Amazon CloudFront       0.87      0.57      0.68      5775\n",
      "              Amazon EC2       0.84      0.97      0.90     88594\n",
      "Amazon Elastic Beanstalk       0.86      0.58      0.69      6637\n",
      "           Amazon Lambda       0.88      0.55      0.68      2715\n",
      "              Amazon RDS       0.88      0.64      0.74     11755\n",
      "               Amazon S3       0.83      0.69      0.75     16007\n",
      "              Amazon SNS       0.91      0.59      0.72      1426\n",
      "              Amazon VPC       0.81      0.53      0.64      6403\n",
      "\n",
      "               micro avg       0.84      0.84      0.84    139312\n",
      "               macro avg       0.86      0.64      0.73    139312\n",
      "            weighted avg       0.84      0.84      0.83    139312\n",
      "\n",
      "accuracy: 0.8411335706902492\n"
     ]
    }
   ],
   "source": [
    "predictions = logreg.predict(X_test)\n",
    "\n",
    "print(confusion_matrix(y_test,predictions))\n",
    "print(classification_report(y_test, predictions))\n",
    "print('accuracy:', accuracy_score(predictions, y_test))"
   ]
  },
  {
   "cell_type": "markdown",
   "metadata": {},
   "source": [
    "## Random Forest Model"
   ]
  },
  {
   "cell_type": "code",
   "execution_count": null,
   "metadata": {},
   "outputs": [
    {
     "name": "stderr",
     "output_type": "stream",
     "text": [
      "C:\\Users\\Aruna\\Anaconda3\\lib\\site-packages\\sklearn\\ensemble\\forest.py:246: FutureWarning: The default value of n_estimators will change from 10 in version 0.20 to 100 in 0.22.\n",
      "  \"10 in version 0.20 to 100 in 0.22.\", FutureWarning)\n"
     ]
    }
   ],
   "source": [
    "from sklearn.ensemble import RandomForestClassifier\n",
    "\n",
    "rf = Pipeline([('vect', TfidfVectorizer()), ('clf', RandomForestClassifier())])\n",
    "\n",
    "rf.fit(X_train, y_train)"
   ]
  },
  {
   "cell_type": "code",
   "execution_count": null,
   "metadata": {},
   "outputs": [],
   "source": [
    "predictions = rf.predict(X_test)\n",
    "print(confusion_matrix(y_test,predictions))\n",
    "print(classification_report(y_test, predictions))\n",
    "print('accuracy:', accuracy_score(predictions, y_test))"
   ]
  },
  {
   "cell_type": "markdown",
   "metadata": {},
   "source": [
    "## Linear SVC Model"
   ]
  },
  {
   "cell_type": "code",
   "execution_count": 16,
   "metadata": {},
   "outputs": [
    {
     "data": {
      "text/plain": [
       "Pipeline(memory=None,\n",
       "     steps=[('vect', TfidfVectorizer(analyzer='word', binary=False, decode_error='strict',\n",
       "        dtype=<class 'numpy.float64'>, encoding='utf-8', input='content',\n",
       "        lowercase=True, max_df=1.0, max_features=None, min_df=1,\n",
       "        ngram_range=(1, 1), norm='l2', preprocessor=None, smooth_idf=True,\n",
       "...ax_iter=1000,\n",
       "     multi_class='ovr', penalty='l2', random_state=None, tol=0.0001,\n",
       "     verbose=0))])"
      ]
     },
     "execution_count": 16,
     "metadata": {},
     "output_type": "execute_result"
    }
   ],
   "source": [
    "from sklearn.svm import LinearSVC\n",
    "\n",
    "svm = Pipeline([('vect', TfidfVectorizer()), ('clf', LinearSVC())])\n",
    "\n",
    "svm.fit(X_train, y_train)"
   ]
  },
  {
   "cell_type": "code",
   "execution_count": 17,
   "metadata": {},
   "outputs": [
    {
     "name": "stdout",
     "output_type": "stream",
     "text": [
      "                          precision    recall  f1-score   support\n",
      "\n",
      "       Amazon CloudFront       0.85      0.61      0.71      5775\n",
      "              Amazon EC2       0.86      0.96      0.91     88594\n",
      "Amazon Elastic Beanstalk       0.85      0.63      0.72      6637\n",
      "           Amazon Lambda       0.86      0.63      0.73      2715\n",
      "              Amazon RDS       0.87      0.70      0.77     11755\n",
      "               Amazon S3       0.82      0.71      0.76     16007\n",
      "              Amazon SNS       0.88      0.66      0.75      1426\n",
      "              Amazon VPC       0.81      0.56      0.66      6403\n",
      "\n",
      "               micro avg       0.85      0.85      0.85    139312\n",
      "               macro avg       0.85      0.68      0.75    139312\n",
      "            weighted avg       0.85      0.85      0.85    139312\n",
      "\n",
      "accuracy: 0.8518577007005858\n"
     ]
    }
   ],
   "source": [
    "predictions = svm.predict(X_test)\n",
    "print(confusion_matrix(y_test,predictions))\n",
    "print(classification_report(y_test, predictions))\n",
    "print('accuracy:', accuracy_score(predictions, y_test))"
   ]
  },
  {
   "cell_type": "markdown",
   "metadata": {},
   "source": [
    "## XGBoost Model"
   ]
  },
  {
   "cell_type": "code",
   "execution_count": 20,
   "metadata": {},
   "outputs": [
    {
     "name": "stdout",
     "output_type": "stream",
     "text": [
      "Wall time: 0 ns\n"
     ]
    }
   ],
   "source": [
    "from xgboost import XGBClassifier\n",
    "\n",
    "xgb = Pipeline([('vect', TfidfVectorizer()), ('clf', XGBClassifier())])\n",
    "xgb.fit(X_train, y_train)\n",
    "\n",
    "%time"
   ]
  },
  {
   "cell_type": "code",
   "execution_count": 21,
   "metadata": {},
   "outputs": [
    {
     "name": "stdout",
     "output_type": "stream",
     "text": [
      "[[ 2628  2565     5    20     4   542     0    11]\n",
      " [   93 86306   346    53   696   534    14   552]\n",
      " [   10  3393  3021     7    98    71     2    35]\n",
      " [   43  1264    30  1221    22    93    15    27]\n",
      " [    3  5980    62    35  5559    40     6    70]\n",
      " [  232  7715    24    67    55  7889     3    22]\n",
      " [    1   746     5    18     2    17   636     1]\n",
      " [    2  3333    28     6    47    13     0  2974]]\n",
      "                          precision    recall  f1-score   support\n",
      "\n",
      "       Amazon CloudFront       0.87      0.46      0.60      5775\n",
      "              Amazon EC2       0.78      0.97      0.86     88594\n",
      "Amazon Elastic Beanstalk       0.86      0.46      0.59      6637\n",
      "           Amazon Lambda       0.86      0.45      0.59      2715\n",
      "              Amazon RDS       0.86      0.47      0.61     11755\n",
      "               Amazon S3       0.86      0.49      0.63     16007\n",
      "              Amazon SNS       0.94      0.45      0.61      1426\n",
      "              Amazon VPC       0.81      0.46      0.59      6403\n",
      "\n",
      "               micro avg       0.79      0.79      0.79    139312\n",
      "               macro avg       0.85      0.53      0.63    139312\n",
      "            weighted avg       0.80      0.79      0.77    139312\n",
      "\n",
      "accuracy: 0.7912742620879752\n"
     ]
    }
   ],
   "source": [
    "predictions = xgb.predict(X_test)\n",
    "\n",
    "print(confusion_matrix(y_test,predictions))\n",
    "print(classification_report(y_test, predictions))\n",
    "print('accuracy:', accuracy_score(predictions, y_test))"
   ]
  },
  {
   "cell_type": "code",
   "execution_count": null,
   "metadata": {},
   "outputs": [],
   "source": []
  }
 ],
 "metadata": {
  "kernelspec": {
   "display_name": "Python 3",
   "language": "python",
   "name": "python3"
  },
  "language_info": {
   "codemirror_mode": {
    "name": "ipython",
    "version": 3
   },
   "file_extension": ".py",
   "mimetype": "text/x-python",
   "name": "python",
   "nbconvert_exporter": "python",
   "pygments_lexer": "ipython3",
   "version": "3.7.3"
  }
 },
 "nbformat": 4,
 "nbformat_minor": 2
}
