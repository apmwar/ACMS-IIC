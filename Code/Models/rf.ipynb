{
 "cells": [
  {
   "cell_type": "markdown",
   "metadata": {},
   "source": [
    "# ML Model to predict the AWS Product"
   ]
  },
  {
   "cell_type": "markdown",
   "metadata": {},
   "source": [
    "### Import the necessary libraries"
   ]
  },
  {
   "cell_type": "code",
   "execution_count": 1,
   "metadata": {},
   "outputs": [],
   "source": [
    "import pandas as pd\n",
    "import csv"
   ]
  },
  {
   "cell_type": "code",
   "execution_count": 2,
   "metadata": {},
   "outputs": [],
   "source": [
    "import matplotlib.pyplot as plt\n",
    "import seaborn as sns\n",
    "from wordcloud import WordCloud, STOPWORDS, ImageColorGenerator\n",
    "\n",
    "%matplotlib inline\n",
    "pd.set_option('display.max_colwidth', 150)"
   ]
  },
  {
   "cell_type": "markdown",
   "metadata": {},
   "source": [
    "### (A) Read the CSV file"
   ]
  },
  {
   "cell_type": "code",
   "execution_count": 3,
   "metadata": {
    "scrolled": false
   },
   "outputs": [
    {
     "data": {
      "text/html": [
       "<div>\n",
       "<style scoped>\n",
       "    .dataframe tbody tr th:only-of-type {\n",
       "        vertical-align: middle;\n",
       "    }\n",
       "\n",
       "    .dataframe tbody tr th {\n",
       "        vertical-align: top;\n",
       "    }\n",
       "\n",
       "    .dataframe thead th {\n",
       "        text-align: right;\n",
       "    }\n",
       "</style>\n",
       "<table border=\"1\" class=\"dataframe\">\n",
       "  <thead>\n",
       "    <tr style=\"text-align: right;\">\n",
       "      <th></th>\n",
       "      <th>id</th>\n",
       "      <th>label</th>\n",
       "      <th>description</th>\n",
       "    </tr>\n",
       "  </thead>\n",
       "  <tbody>\n",
       "    <tr>\n",
       "      <th>0</th>\n",
       "      <td>5829.0</td>\n",
       "      <td>Amazon CloudFront</td>\n",
       "      <td>chunked encoding resumable downloads supports something coming soon</td>\n",
       "    </tr>\n",
       "    <tr>\n",
       "      <th>1</th>\n",
       "      <td>5829.0</td>\n",
       "      <td>Amazon CloudFront</td>\n",
       "      <td>keith4pluralsight supports resumable downloads chunked encoding time plans support chunked encoding certainly interested community opinion.thanks ...</td>\n",
       "    </tr>\n",
       "    <tr>\n",
       "      <th>2</th>\n",
       "      <td>5829.0</td>\n",
       "      <td>Amazon CloudFront</td>\n",
       "      <td>chunked encoding especially usedul edge low latency critical want flush html client soon possible allow start parsing prefetching critical resourc...</td>\n",
       "    </tr>\n",
       "    <tr>\n",
       "      <th>3</th>\n",
       "      <td>5828.0</td>\n",
       "      <td>Amazon CloudFront</td>\n",
       "      <td>debug error accessing resources simple means debugging configuration supposed provide access contents bucket trying find consistent means creating...</td>\n",
       "    </tr>\n",
       "    <tr>\n",
       "      <th>4</th>\n",
       "      <td>5828.0</td>\n",
       "      <td>Amazon CloudFront</td>\n",
       "      <td>tried using cloudtrail contains sorts events search events username access bucket name etc seeing specific events try setting logging relevant buc...</td>\n",
       "    </tr>\n",
       "    <tr>\n",
       "      <th>5</th>\n",
       "      <td>5827.0</td>\n",
       "      <td>Amazon CloudFront</td>\n",
       "      <td>feature request custom headers e.g set hsts csp xframeoptions love see ability custom headers inside e.g stricttransportsecurity contentsecuritypo...</td>\n",
       "    </tr>\n",
       "    <tr>\n",
       "      <th>6</th>\n",
       "      <td>5827.0</td>\n",
       "      <td>Amazon CloudFront</td>\n",
       "      <td>agree prevent many hacking attempts going today important support headers love set following headers someid.cloudfront.net distribution stricttran...</td>\n",
       "    </tr>\n",
       "    <tr>\n",
       "      <th>7</th>\n",
       "      <td>5827.0</td>\n",
       "      <td>Amazon CloudFront</td>\n",
       "      <td>yes owasp zap site security warnings lack secure headers assets served activate whole suite secure headers great</td>\n",
       "    </tr>\n",
       "    <tr>\n",
       "      <th>8</th>\n",
       "      <td>5827.0</td>\n",
       "      <td>Amazon CloudFront</td>\n",
       "      <td>headers listed fun get security researcher reports cannot fix issue required headers supported need mostly xframeoptions hsts plan every security ...</td>\n",
       "    </tr>\n",
       "    <tr>\n",
       "      <th>9</th>\n",
       "      <td>5827.0</td>\n",
       "      <td>Amazon CloudFront</td>\n",
       "      <td>xframeoptions owasp zap got warnings</td>\n",
       "    </tr>\n",
       "  </tbody>\n",
       "</table>\n",
       "</div>"
      ],
      "text/plain": [
       "       id              label  \\\n",
       "0  5829.0  Amazon CloudFront   \n",
       "1  5829.0  Amazon CloudFront   \n",
       "2  5829.0  Amazon CloudFront   \n",
       "3  5828.0  Amazon CloudFront   \n",
       "4  5828.0  Amazon CloudFront   \n",
       "5  5827.0  Amazon CloudFront   \n",
       "6  5827.0  Amazon CloudFront   \n",
       "7  5827.0  Amazon CloudFront   \n",
       "8  5827.0  Amazon CloudFront   \n",
       "9  5827.0  Amazon CloudFront   \n",
       "\n",
       "                                                                                                                                             description  \n",
       "0                                                                                    chunked encoding resumable downloads supports something coming soon  \n",
       "1  keith4pluralsight supports resumable downloads chunked encoding time plans support chunked encoding certainly interested community opinion.thanks ...  \n",
       "2  chunked encoding especially usedul edge low latency critical want flush html client soon possible allow start parsing prefetching critical resourc...  \n",
       "3  debug error accessing resources simple means debugging configuration supposed provide access contents bucket trying find consistent means creating...  \n",
       "4  tried using cloudtrail contains sorts events search events username access bucket name etc seeing specific events try setting logging relevant buc...  \n",
       "5  feature request custom headers e.g set hsts csp xframeoptions love see ability custom headers inside e.g stricttransportsecurity contentsecuritypo...  \n",
       "6  agree prevent many hacking attempts going today important support headers love set following headers someid.cloudfront.net distribution stricttran...  \n",
       "7                                       yes owasp zap site security warnings lack secure headers assets served activate whole suite secure headers great  \n",
       "8  headers listed fun get security researcher reports cannot fix issue required headers supported need mostly xframeoptions hsts plan every security ...  \n",
       "9                                                                                                                   xframeoptions owasp zap got warnings  "
      ]
     },
     "execution_count": 3,
     "metadata": {},
     "output_type": "execute_result"
    }
   ],
   "source": [
    "df = pd.read_csv('C:\\\\Users\\\\Aruna\\\\Documents\\\\ACMS-IID\\\\input\\\\CleanText.csv')\n",
    "df['description'] = df['description'].apply(lambda x: \" \".join(x for x in str(x).split()))\n",
    "df.head(10)"
   ]
  },
  {
   "cell_type": "markdown",
   "metadata": {},
   "source": [
    "#### Check the spread of tags in the data"
   ]
  },
  {
   "cell_type": "code",
   "execution_count": 4,
   "metadata": {},
   "outputs": [
    {
     "name": "stdout",
     "output_type": "stream",
     "text": [
      "<class 'pandas.core.frame.DataFrame'>\n",
      "RangeIndex: 461130 entries, 0 to 461129\n",
      "Data columns (total 3 columns):\n",
      "id             461128 non-null float64\n",
      "label          461130 non-null object\n",
      "description    461130 non-null object\n",
      "dtypes: float64(1), object(2)\n",
      "memory usage: 10.6+ MB\n"
     ]
    }
   ],
   "source": [
    "df.info()"
   ]
  },
  {
   "cell_type": "code",
   "execution_count": 5,
   "metadata": {},
   "outputs": [
    {
     "data": {
      "text/plain": [
       "count         461130\n",
       "unique             8\n",
       "top       Amazon EC2\n",
       "freq          293285\n",
       "Name: label, dtype: object"
      ]
     },
     "execution_count": 5,
     "metadata": {},
     "output_type": "execute_result"
    }
   ],
   "source": [
    "df['label'].describe()"
   ]
  },
  {
   "cell_type": "code",
   "execution_count": 6,
   "metadata": {},
   "outputs": [
    {
     "data": {
      "image/png": "[encoded data removed]",
      "text/plain": [
       "<Figure size 720x288 with 1 Axes>"
      ]
     },
     "metadata": {
      "needs_background": "light"
     },
     "output_type": "display_data"
    }
   ],
   "source": [
    "plt.figure(figsize=(10,4))\n",
    "df.label.value_counts().plot(kind='bar');"
   ]
  },
  {
   "cell_type": "code",
   "execution_count": 7,
   "metadata": {},
   "outputs": [
    {
     "data": {
      "image/png": "[encoded data removed]",
      "text/plain": [
       "<Figure size 7200x288 with 1 Axes>"
      ]
     },
     "metadata": {},
     "output_type": "display_data"
    }
   ],
   "source": [
    "plt.figure(figsize=(100,4))\n",
    "df.label.value_counts().plot(kind='pie');"
   ]
  },
  {
   "cell_type": "markdown",
   "metadata": {},
   "source": [
    "#### Check out one sample post"
   ]
  },
  {
   "cell_type": "code",
   "execution_count": 8,
   "metadata": {},
   "outputs": [
    {
     "data": {
      "text/plain": [
       "'still issue though try request different box first mac get different failure s3api putobject endpointurl bucket mybucket myfile.txt error occurred signaturedoesnotmatch calling putobject operation request signature calculated match signature provided check signing method request works boxes use standard endpoint still think must issue configuration s3api putobject endpointurl bucket mybucket myfile.txt'"
      ]
     },
     "execution_count": 8,
     "metadata": {},
     "output_type": "execute_result"
    }
   ],
   "source": [
    "df['description'][100]"
   ]
  },
  {
   "cell_type": "markdown",
   "metadata": {},
   "source": [
    "#### Top 30 words + frequency of each:"
   ]
  },
  {
   "cell_type": "code",
   "execution_count": 9,
   "metadata": {},
   "outputs": [
    {
     "data": {
      "text/plain": [
       "instance     395738\n",
       "using        104252\n",
       "instances     97891\n",
       "server        96551\n",
       "new           88024\n",
       "error         86684\n",
       "get           84382\n",
       "use           80192\n",
       "one           76118\n",
       "issue         73673\n",
       "ms            73196\n",
       "running       71212\n",
       "see           69321\n",
       "file          69220\n",
       "like          66348\n",
       "time          64909\n",
       "problem       64499\n",
       "need          63643\n",
       "help          59749\n",
       "access        58690\n",
       "also          58121\n",
       "volume        56699\n",
       "data          55316\n",
       "still         49109\n",
       "ebs           45677\n",
       "set           44538\n",
       "create        44263\n",
       "bucket        44090\n",
       "request       43853\n",
       "ssh           42467\n",
       "dtype: int64"
      ]
     },
     "execution_count": 9,
     "metadata": {},
     "output_type": "execute_result"
    }
   ],
   "source": [
    "freq = pd.Series(' '.join(df['description']).split()).value_counts()[:30]\n",
    "freq"
   ]
  },
  {
   "cell_type": "code",
   "execution_count": 10,
   "metadata": {},
   "outputs": [
    {
     "name": "stdout",
     "output_type": "stream",
     "text": [
      "There are totally 18374768 words.\n"
     ]
    }
   ],
   "source": [
    "print(\"There are totally\", df['description'].apply(lambda x: len(x.split(' '))).sum(), \"words.\")"
   ]
  },
  {
   "cell_type": "markdown",
   "metadata": {},
   "source": [
    "### (C) Feature Engineering & Model Deployment"
   ]
  },
  {
   "cell_type": "code",
   "execution_count": 13,
   "metadata": {},
   "outputs": [
    {
     "data": {
      "text/plain": [
       "(322791,)"
      ]
     },
     "execution_count": 13,
     "metadata": {},
     "output_type": "execute_result"
    }
   ],
   "source": [
    "from sklearn.model_selection import train_test_split\n",
    "\n",
    "X = df['description']\n",
    "y = df['label']\n",
    "X_train, X_test, y_train, y_test = train_test_split(X, y, test_size=0.3, random_state = 42)\n",
    "X_train.shape"
   ]
  },
  {
   "cell_type": "code",
   "execution_count": 14,
   "metadata": {},
   "outputs": [],
   "source": [
    "from sklearn.naive_bayes import MultinomialNB\n",
    "from sklearn.pipeline import Pipeline\n",
    "from sklearn.feature_extraction.text import TfidfVectorizer\n",
    "\n",
    "from sklearn.metrics import classification_report\n",
    "from sklearn.metrics import accuracy_score\n",
    "from sklearn.metrics import confusion_matrix"
   ]
  },
  {
   "cell_type": "markdown",
   "metadata": {},
   "source": [
    "## Random Forest Model"
   ]
  },
  {
   "cell_type": "code",
   "execution_count": 15,
   "metadata": {},
   "outputs": [
    {
     "name": "stderr",
     "output_type": "stream",
     "text": [
      "C:\\Users\\Aruna\\Anaconda3\\lib\\site-packages\\sklearn\\ensemble\\forest.py:246: FutureWarning: The default value of n_estimators will change from 10 in version 0.20 to 100 in 0.22.\n",
      "  \"10 in version 0.20 to 100 in 0.22.\", FutureWarning)\n"
     ]
    },
    {
     "data": {
      "text/plain": [
       "Pipeline(memory=None,\n",
       "     steps=[('vect', TfidfVectorizer(analyzer='word', binary=False, decode_error='strict',\n",
       "        dtype=<class 'numpy.float64'>, encoding='utf-8', input='content',\n",
       "        lowercase=True, max_df=1.0, max_features=None, min_df=1,\n",
       "        ngram_range=(1, 1), norm='l2', preprocessor=None, smooth_idf=True,\n",
       "...obs=None,\n",
       "            oob_score=False, random_state=None, verbose=0,\n",
       "            warm_start=False))])"
      ]
     },
     "execution_count": 15,
     "metadata": {},
     "output_type": "execute_result"
    }
   ],
   "source": [
    "rf = Pipeline([('vect', TfidfVectorizer()), ('clf', RandomForestClassifier())])\n",
    "\n",
    "rf.fit(X_train, y_train)"
   ]
  },
  {
   "cell_type": "code",
   "execution_count": 16,
   "metadata": {},
   "outputs": [
    {
     "name": "stdout",
     "output_type": "stream",
     "text": [
      "[[ 2430  2329    18    11    34   875     2     2]\n",
      " [  239 85559   223    40   510  1117    14   378]\n",
      " [   32  4472  1812    13    66   180     8    32]\n",
      " [   61  1545    71   664    49   233    10    17]\n",
      " [   25  5272    35    17  6143    87     4    46]\n",
      " [  419  7306    52    32   103  7941     3    23]\n",
      " [   17   740    10    20    20    75   472     0]\n",
      " [   10  3881    25     9    59    42     2  2403]]\n",
      "                          precision    recall  f1-score   support\n",
      "\n",
      "       Amazon CloudFront       0.75      0.43      0.54      5701\n",
      "              Amazon EC2       0.77      0.97      0.86     88080\n",
      "Amazon Elastic Beanstalk       0.81      0.27      0.41      6615\n",
      "           Amazon Lambda       0.82      0.25      0.38      2650\n",
      "              Amazon RDS       0.88      0.53      0.66     11629\n",
      "               Amazon S3       0.75      0.50      0.60     15879\n",
      "              Amazon SNS       0.92      0.35      0.51      1354\n",
      "              Amazon VPC       0.83      0.37      0.52      6431\n",
      "\n",
      "               micro avg       0.78      0.78      0.78    138339\n",
      "               macro avg       0.82      0.46      0.56    138339\n",
      "            weighted avg       0.78      0.78      0.75    138339\n",
      "\n",
      "accuracy: 0.7765272265955371\n"
     ]
    }
   ],
   "source": [
    "predictions = rf.predict(X_test)\n",
    "print(confusion_matrix(y_test,predictions))\n",
    "print(classification_report(y_test, predictions))\n",
    "print('accuracy:', accuracy_score(predictions, y_test))"
   ]
  },
  {
   "cell_type": "code",
   "execution_count": null,
   "metadata": {},
   "outputs": [],
   "source": []
  }
 ],
 "metadata": {
  "kernelspec": {
   "display_name": "Python 3",
   "language": "python",
   "name": "python3"
  },
  "language_info": {
   "codemirror_mode": {
    "name": "ipython",
    "version": 3
   },
   "file_extension": ".py",
   "mimetype": "text/x-python",
   "name": "python",
   "nbconvert_exporter": "python",
   "pygments_lexer": "ipython3",
   "version": "3.7.3"
  }
 },
 "nbformat": 4,
 "nbformat_minor": 2
}
