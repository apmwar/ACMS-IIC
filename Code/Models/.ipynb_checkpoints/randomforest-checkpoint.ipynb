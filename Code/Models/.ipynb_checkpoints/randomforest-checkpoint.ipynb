{
 "cells": [
  {
   "cell_type": "code",
   "execution_count": 10,
   "metadata": {},
   "outputs": [],
   "source": [
    "import pandas as pd\n",
    "from sklearn.model_selection import train_test_split\n",
    "\n",
    "s3 = pd.read_csv('Amazon S3_Cleaned.tsv', delimiter='\\t', encoding='utf-8')\n",
    "rds = pd.read_csv('Amazon RDS_Cleaned.tsv', delimiter='\\t', encoding='utf-8')"
   ]
  },
  {
   "cell_type": "code",
   "execution_count": 12,
   "metadata": {},
   "outputs": [],
   "source": [
    "names = [\"label\", \"description\"]\n",
    "\n",
    "X = s3.drop('description', axis=1)\n",
    "y = s3['label']"
   ]
  },
  {
   "cell_type": "code",
   "execution_count": 13,
   "metadata": {},
   "outputs": [
    {
     "name": "stdout",
     "output_type": "stream",
     "text": [
      "           label\n",
      "0      Amazon S3\n",
      "1      Amazon S3\n",
      "2      Amazon S3\n",
      "3      Amazon S3\n",
      "4      Amazon S3\n",
      "5      Amazon S3\n",
      "6      Amazon S3\n",
      "7      Amazon S3\n",
      "8      Amazon S3\n",
      "9      Amazon S3\n",
      "10     Amazon S3\n",
      "11     Amazon S3\n",
      "12     Amazon S3\n",
      "13     Amazon S3\n",
      "14     Amazon S3\n",
      "15     Amazon S3\n",
      "16     Amazon S3\n",
      "17     Amazon S3\n",
      "18     Amazon S3\n",
      "19     Amazon S3\n",
      "20     Amazon S3\n",
      "21     Amazon S3\n",
      "22     Amazon S3\n",
      "23     Amazon S3\n",
      "24     Amazon S3\n",
      "25     Amazon S3\n",
      "26     Amazon S3\n",
      "27     Amazon S3\n",
      "28     Amazon S3\n",
      "29     Amazon S3\n",
      "...          ...\n",
      "53144  Amazon S3\n",
      "53145  Amazon S3\n",
      "53146  Amazon S3\n",
      "53147  Amazon S3\n",
      "53148  Amazon S3\n",
      "53149  Amazon S3\n",
      "53150  Amazon S3\n",
      "53151  Amazon S3\n",
      "53152  Amazon S3\n",
      "53153  Amazon S3\n",
      "53154  Amazon S3\n",
      "53155  Amazon S3\n",
      "53156  Amazon S3\n",
      "53157  Amazon S3\n",
      "53158  Amazon S3\n",
      "53159  Amazon S3\n",
      "53160  Amazon S3\n",
      "53161  Amazon S3\n",
      "53162  Amazon S3\n",
      "53163  Amazon S3\n",
      "53164  Amazon S3\n",
      "53165  Amazon S3\n",
      "53166  Amazon S3\n",
      "53167  Amazon S3\n",
      "53168  Amazon S3\n",
      "53169  Amazon S3\n",
      "53170  Amazon S3\n",
      "53171  Amazon S3\n",
      "53172  Amazon S3\n",
      "53173  Amazon S3\n",
      "\n",
      "[53174 rows x 1 columns]\n"
     ]
    }
   ],
   "source": [
    "print(X)"
   ]
  },
  {
   "cell_type": "code",
   "execution_count": null,
   "metadata": {},
   "outputs": [],
   "source": []
  }
 ],
 "metadata": {
  "kernelspec": {
   "display_name": "Python 3",
   "language": "python",
   "name": "python3"
  },
  "language_info": {
   "codemirror_mode": {
    "name": "ipython",
    "version": 3
   },
   "file_extension": ".py",
   "mimetype": "text/x-python",
   "name": "python",
   "nbconvert_exporter": "python",
   "pygments_lexer": "ipython3",
   "version": "3.7.3"
  }
 },
 "nbformat": 4,
 "nbformat_minor": 2
}
