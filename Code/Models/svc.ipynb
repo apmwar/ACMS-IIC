{
 "cells": [
  {
   "cell_type": "markdown",
   "metadata": {},
   "source": [
    "# ML Model to predict the AWS Product"
   ]
  },
  {
   "cell_type": "markdown",
   "metadata": {},
   "source": [
    "### Import the necessary libraries"
   ]
  },
  {
   "cell_type": "code",
   "execution_count": 1,
   "metadata": {},
   "outputs": [],
   "source": [
    "import pandas as pd\n",
    "import csv"
   ]
  },
  {
   "cell_type": "code",
   "execution_count": 2,
   "metadata": {},
   "outputs": [],
   "source": [
    "import matplotlib.pyplot as plt\n",
    "import seaborn as sb\n",
    "\n",
    "%matplotlib inline\n",
    "pd.set_option('display.max_colwidth', 150)"
   ]
  },
  {
   "cell_type": "markdown",
   "metadata": {},
   "source": [
    "### (A) Read the CSV file"
   ]
  },
  {
   "cell_type": "code",
   "execution_count": 3,
   "metadata": {
    "scrolled": false
   },
   "outputs": [
    {
     "data": {
      "text/html": [
       "<div>\n",
       "<style scoped>\n",
       "    .dataframe tbody tr th:only-of-type {\n",
       "        vertical-align: middle;\n",
       "    }\n",
       "\n",
       "    .dataframe tbody tr th {\n",
       "        vertical-align: top;\n",
       "    }\n",
       "\n",
       "    .dataframe thead th {\n",
       "        text-align: right;\n",
       "    }\n",
       "</style>\n",
       "<table border=\"1\" class=\"dataframe\">\n",
       "  <thead>\n",
       "    <tr style=\"text-align: right;\">\n",
       "      <th></th>\n",
       "      <th>id</th>\n",
       "      <th>label</th>\n",
       "      <th>description</th>\n",
       "    </tr>\n",
       "  </thead>\n",
       "  <tbody>\n",
       "    <tr>\n",
       "      <th>0</th>\n",
       "      <td>5829.0</td>\n",
       "      <td>Amazon CloudFront</td>\n",
       "      <td>chunked encoding resumable downloads supports something coming soon</td>\n",
       "    </tr>\n",
       "    <tr>\n",
       "      <th>1</th>\n",
       "      <td>5829.0</td>\n",
       "      <td>Amazon CloudFront</td>\n",
       "      <td>keith4pluralsight supports resumable downloads chunked encoding time plans support chunked encoding certainly interested community opinion.thanks ...</td>\n",
       "    </tr>\n",
       "    <tr>\n",
       "      <th>2</th>\n",
       "      <td>5829.0</td>\n",
       "      <td>Amazon CloudFront</td>\n",
       "      <td>chunked encoding especially usedul edge low latency critical want flush html client soon possible allow start parsing prefetching critical resourc...</td>\n",
       "    </tr>\n",
       "    <tr>\n",
       "      <th>3</th>\n",
       "      <td>5828.0</td>\n",
       "      <td>Amazon CloudFront</td>\n",
       "      <td>debug error accessing resources simple means debugging configuration supposed provide access contents bucket trying find consistent means creating...</td>\n",
       "    </tr>\n",
       "    <tr>\n",
       "      <th>4</th>\n",
       "      <td>5828.0</td>\n",
       "      <td>Amazon CloudFront</td>\n",
       "      <td>tried using cloudtrail contains sorts events search events username access bucket name etc seeing specific events try setting logging relevant buc...</td>\n",
       "    </tr>\n",
       "    <tr>\n",
       "      <th>5</th>\n",
       "      <td>5827.0</td>\n",
       "      <td>Amazon CloudFront</td>\n",
       "      <td>feature request custom headers e.g set hsts csp xframeoptions love see ability custom headers inside e.g stricttransportsecurity contentsecuritypo...</td>\n",
       "    </tr>\n",
       "    <tr>\n",
       "      <th>6</th>\n",
       "      <td>5827.0</td>\n",
       "      <td>Amazon CloudFront</td>\n",
       "      <td>agree prevent many hacking attempts going today important support headers love set following headers someid.cloudfront.net distribution stricttran...</td>\n",
       "    </tr>\n",
       "    <tr>\n",
       "      <th>7</th>\n",
       "      <td>5827.0</td>\n",
       "      <td>Amazon CloudFront</td>\n",
       "      <td>yes owasp zap site security warnings lack secure headers assets served activate whole suite secure headers great</td>\n",
       "    </tr>\n",
       "    <tr>\n",
       "      <th>8</th>\n",
       "      <td>5827.0</td>\n",
       "      <td>Amazon CloudFront</td>\n",
       "      <td>headers listed fun get security researcher reports cannot fix issue required headers supported need mostly xframeoptions hsts plan every security ...</td>\n",
       "    </tr>\n",
       "    <tr>\n",
       "      <th>9</th>\n",
       "      <td>5827.0</td>\n",
       "      <td>Amazon CloudFront</td>\n",
       "      <td>xframeoptions owasp zap got warnings</td>\n",
       "    </tr>\n",
       "  </tbody>\n",
       "</table>\n",
       "</div>"
      ],
      "text/plain": [
       "       id              label  \\\n",
       "0  5829.0  Amazon CloudFront   \n",
       "1  5829.0  Amazon CloudFront   \n",
       "2  5829.0  Amazon CloudFront   \n",
       "3  5828.0  Amazon CloudFront   \n",
       "4  5828.0  Amazon CloudFront   \n",
       "5  5827.0  Amazon CloudFront   \n",
       "6  5827.0  Amazon CloudFront   \n",
       "7  5827.0  Amazon CloudFront   \n",
       "8  5827.0  Amazon CloudFront   \n",
       "9  5827.0  Amazon CloudFront   \n",
       "\n",
       "                                                                                                                                             description  \n",
       "0                                                                                    chunked encoding resumable downloads supports something coming soon  \n",
       "1  keith4pluralsight supports resumable downloads chunked encoding time plans support chunked encoding certainly interested community opinion.thanks ...  \n",
       "2  chunked encoding especially usedul edge low latency critical want flush html client soon possible allow start parsing prefetching critical resourc...  \n",
       "3  debug error accessing resources simple means debugging configuration supposed provide access contents bucket trying find consistent means creating...  \n",
       "4  tried using cloudtrail contains sorts events search events username access bucket name etc seeing specific events try setting logging relevant buc...  \n",
       "5  feature request custom headers e.g set hsts csp xframeoptions love see ability custom headers inside e.g stricttransportsecurity contentsecuritypo...  \n",
       "6  agree prevent many hacking attempts going today important support headers love set following headers someid.cloudfront.net distribution stricttran...  \n",
       "7                                       yes owasp zap site security warnings lack secure headers assets served activate whole suite secure headers great  \n",
       "8  headers listed fun get security researcher reports cannot fix issue required headers supported need mostly xframeoptions hsts plan every security ...  \n",
       "9                                                                                                                   xframeoptions owasp zap got warnings  "
      ]
     },
     "execution_count": 3,
     "metadata": {},
     "output_type": "execute_result"
    }
   ],
   "source": [
    "df = pd.read_csv('C:\\\\Users\\\\Aruna\\\\Documents\\\\ACMS-IID\\\\input\\\\CleanText.csv')\n",
    "df['description'] = df['description'].apply(lambda x: \" \".join(x for x in str(x).split()))\n",
    "df.head(10)"
   ]
  },
  {
   "cell_type": "markdown",
   "metadata": {},
   "source": [
    "#### Check the spread of tags in the data"
   ]
  },
  {
   "cell_type": "code",
   "execution_count": 4,
   "metadata": {},
   "outputs": [
    {
     "name": "stdout",
     "output_type": "stream",
     "text": [
      "<class 'pandas.core.frame.DataFrame'>\n",
      "RangeIndex: 461130 entries, 0 to 461129\n",
      "Data columns (total 3 columns):\n",
      "id             461128 non-null float64\n",
      "label          461130 non-null object\n",
      "description    461130 non-null object\n",
      "dtypes: float64(1), object(2)\n",
      "memory usage: 10.6+ MB\n"
     ]
    }
   ],
   "source": [
    "df.info()"
   ]
  },
  {
   "cell_type": "code",
   "execution_count": 5,
   "metadata": {},
   "outputs": [
    {
     "data": {
      "text/plain": [
       "count         461130\n",
       "unique             8\n",
       "top       Amazon EC2\n",
       "freq          293285\n",
       "Name: label, dtype: object"
      ]
     },
     "execution_count": 5,
     "metadata": {},
     "output_type": "execute_result"
    }
   ],
   "source": [
    "df['label'].describe()"
   ]
  },
  {
   "cell_type": "code",
   "execution_count": 6,
   "metadata": {},
   "outputs": [
    {
     "data": {
      "image/png": "[encoded data removed]",
      "text/plain": [
       "<Figure size 720x288 with 1 Axes>"
      ]
     },
     "metadata": {
      "needs_background": "light"
     },
     "output_type": "display_data"
    }
   ],
   "source": [
    "plt.figure(figsize=(10,4))\n",
    "df.label.value_counts().plot(kind='bar');"
   ]
  },
  {
   "cell_type": "code",
   "execution_count": 7,
   "metadata": {},
   "outputs": [
    {
     "data": {
      "image/png": "[encoded data removed]",
      "text/plain": [
       "<Figure size 7200x288 with 1 Axes>"
      ]
     },
     "metadata": {},
     "output_type": "display_data"
    }
   ],
   "source": [
    "plt.figure(figsize=(100,4))\n",
    "df.label.value_counts().plot(kind='pie');"
   ]
  },
  {
   "cell_type": "markdown",
   "metadata": {},
   "source": [
    "#### Check out one sample post"
   ]
  },
  {
   "cell_type": "code",
   "execution_count": 8,
   "metadata": {},
   "outputs": [
    {
     "data": {
      "text/plain": [
       "'still issue though try request different box first mac get different failure s3api putobject endpointurl bucket mybucket myfile.txt error occurred signaturedoesnotmatch calling putobject operation request signature calculated match signature provided check signing method request works boxes use standard endpoint still think must issue configuration s3api putobject endpointurl bucket mybucket myfile.txt'"
      ]
     },
     "execution_count": 8,
     "metadata": {},
     "output_type": "execute_result"
    }
   ],
   "source": [
    "df['description'][100]"
   ]
  },
  {
   "cell_type": "markdown",
   "metadata": {},
   "source": [
    "#### Top 30 words + frequency of each:"
   ]
  },
  {
   "cell_type": "code",
   "execution_count": 9,
   "metadata": {},
   "outputs": [
    {
     "data": {
      "text/plain": [
       "instance     395738\n",
       "using        104252\n",
       "instances     97891\n",
       "server        96551\n",
       "new           88024\n",
       "error         86684\n",
       "get           84382\n",
       "use           80192\n",
       "one           76118\n",
       "issue         73673\n",
       "ms            73196\n",
       "running       71212\n",
       "see           69321\n",
       "file          69220\n",
       "like          66348\n",
       "time          64909\n",
       "problem       64499\n",
       "need          63643\n",
       "help          59749\n",
       "access        58690\n",
       "also          58121\n",
       "volume        56699\n",
       "data          55316\n",
       "still         49109\n",
       "ebs           45677\n",
       "set           44538\n",
       "create        44263\n",
       "bucket        44090\n",
       "request       43853\n",
       "ssh           42467\n",
       "dtype: int64"
      ]
     },
     "execution_count": 9,
     "metadata": {},
     "output_type": "execute_result"
    }
   ],
   "source": [
    "freq = pd.Series(' '.join(df['description']).split()).value_counts()[:30]\n",
    "freq"
   ]
  },
  {
   "cell_type": "code",
   "execution_count": 10,
   "metadata": {},
   "outputs": [
    {
     "name": "stdout",
     "output_type": "stream",
     "text": [
      "There are totally 18374768 words.\n"
     ]
    }
   ],
   "source": [
    "print(\"There are totally\", df['description'].apply(lambda x: len(x.split(' '))).sum(), \"words.\")"
   ]
  },
  {
   "cell_type": "markdown",
   "metadata": {},
   "source": [
    "### (C) Feature Engineering & Model Deployment"
   ]
  },
  {
   "cell_type": "code",
   "execution_count": 12,
   "metadata": {},
   "outputs": [
    {
     "data": {
      "text/plain": [
       "(368904,)"
      ]
     },
     "execution_count": 12,
     "metadata": {},
     "output_type": "execute_result"
    }
   ],
   "source": [
    "from sklearn.model_selection import train_test_split\n",
    "\n",
    "X = df['description'].values\n",
    "y = df['label'].values\n",
    "X_train, X_test, y_train, y_test = train_test_split(X, y, test_size=0.2, random_state = 42)\n",
    "\n",
    "X_train.shape"
   ]
  },
  {
   "cell_type": "code",
   "execution_count": 13,
   "metadata": {},
   "outputs": [],
   "source": [
    "from sklearn.naive_bayes import MultinomialNB\n",
    "from sklearn.pipeline import Pipeline\n",
    "from sklearn.feature_extraction.text import TfidfVectorizer\n",
    "\n",
    "from sklearn.metrics import classification_report\n",
    "from sklearn.metrics import accuracy_score\n",
    "from sklearn.metrics import confusion_matrix"
   ]
  },
  {
   "cell_type": "markdown",
   "metadata": {},
   "source": [
    "## Linear SVC Model"
   ]
  },
  {
   "cell_type": "code",
   "execution_count": 14,
   "metadata": {},
   "outputs": [
    {
     "data": {
      "text/plain": [
       "Pipeline(memory=None,\n",
       "     steps=[('vect', TfidfVectorizer(analyzer='word', binary=False, decode_error='strict',\n",
       "        dtype=<class 'numpy.float64'>, encoding='utf-8', input='content',\n",
       "        lowercase=True, max_df=1.0, max_features=None, min_df=1,\n",
       "        ngram_range=(1, 2), norm='l2', preprocessor=None, smooth_idf=True,\n",
       "...ax_iter=1000,\n",
       "     multi_class='ovr', penalty='l2', random_state=None, tol=0.0001,\n",
       "     verbose=0))])"
      ]
     },
     "execution_count": 14,
     "metadata": {},
     "output_type": "execute_result"
    }
   ],
   "source": [
    "from sklearn.svm import LinearSVC\n",
    "\n",
    "svm = Pipeline([('vect', TfidfVectorizer(ngram_range=(1,2))), ('clf', LinearSVC())])\n",
    "\n",
    "svm.fit(X_train, y_train)"
   ]
  },
  {
   "cell_type": "code",
   "execution_count": 15,
   "metadata": {},
   "outputs": [
    {
     "name": "stdout",
     "output_type": "stream",
     "text": [
      "                          precision    recall  f1-score   support\n",
      "\n",
      "       Amazon CloudFront       0.85      0.63      0.72      3754\n",
      "              Amazon EC2       0.87      0.96      0.91     58836\n",
      "Amazon Elastic Beanstalk       0.85      0.63      0.72      4430\n",
      "           Amazon Lambda       0.85      0.63      0.72      1798\n",
      "              Amazon RDS       0.88      0.77      0.82      7661\n",
      "               Amazon S3       0.81      0.72      0.76     10566\n",
      "              Amazon SNS       0.89      0.67      0.76       901\n",
      "              Amazon VPC       0.81      0.59      0.68      4280\n",
      "\n",
      "               micro avg       0.86      0.86      0.86     92226\n",
      "               macro avg       0.85      0.70      0.76     92226\n",
      "            weighted avg       0.86      0.86      0.85     92226\n",
      "\n",
      "accuracy: 0.8587057879556741\n"
     ]
    }
   ],
   "source": [
    "predictions = svm.predict(X_test)\n",
    "print(classification_report(y_test, predictions))\n",
    "print('accuracy:', accuracy_score(predictions, y_test))"
   ]
  },
  {
   "cell_type": "code",
   "execution_count": 16,
   "metadata": {},
   "outputs": [
    {
     "data": {
      "text/plain": [
       "<matplotlib.axes._subplots.AxesSubplot at 0x1edd361f630>"
      ]
     },
     "execution_count": 16,
     "metadata": {},
     "output_type": "execute_result"
    },
    {
     "data": {
      "image/png": "[encoded data removed]",
      "text/plain": [
       "<Figure size 720x504 with 2 Axes>"
      ]
     },
     "metadata": {
      "needs_background": "light"
     },
     "output_type": "display_data"
    }
   ],
   "source": [
    "array = confusion_matrix(y_test, predictions);\n",
    "names = [\"Cloudfront\", \"EC2\", \"Elastic Beanstalk\", \"Lambda\", \"RDS\", \"S3\", \"SNS\", \"VPC\"]\n",
    "\n",
    "df_cm = pd.DataFrame(array, index = [i for i in names], columns = [i for i in names])\n",
    "\n",
    "plt.figure(figsize = (10,7))\n",
    "sb.heatmap(df_cm, annot=True)\n"
   ]
  },
  {
   "cell_type": "code",
   "execution_count": 17,
   "metadata": {},
   "outputs": [
    {
     "data": {
      "text/plain": [
       "array([[ 2349,   856,    20,    12,    19,   491,     2,     5],\n",
       "       [  128, 56349,   314,    68,   502,   955,    32,   488],\n",
       "       [   16,  1409,  2772,    31,    73,    98,     7,    24],\n",
       "       [   32,   427,    48,  1129,    34,    98,     9,    21],\n",
       "       [    7,  1621,    35,    17,  5874,    74,     7,    26],\n",
       "       [  224,  2546,    41,    46,    63,  7617,    14,    15],\n",
       "       [    4,   210,    14,    18,    10,    45,   600,     0],\n",
       "       [    6,  1635,    21,     8,    68,    32,     5,  2505]],\n",
       "      dtype=int64)"
      ]
     },
     "execution_count": 17,
     "metadata": {},
     "output_type": "execute_result"
    }
   ],
   "source": [
    "confusion_matrix(y_test, predictions)"
   ]
  },
  {
   "cell_type": "markdown",
   "metadata": {},
   "source": [
    "## Parameter tuning"
   ]
  },
  {
   "cell_type": "code",
   "execution_count": 19,
   "metadata": {},
   "outputs": [
    {
     "name": "stderr",
     "output_type": "stream",
     "text": [
      "C:\\Users\\Aruna\\Anaconda3\\lib\\site-packages\\sklearn\\svm\\base.py:931: ConvergenceWarning: Liblinear failed to converge, increase the number of iterations.\n",
      "  \"the number of iterations.\", ConvergenceWarning)\n",
      "C:\\Users\\Aruna\\Anaconda3\\lib\\site-packages\\sklearn\\svm\\base.py:931: ConvergenceWarning: Liblinear failed to converge, increase the number of iterations.\n",
      "  \"the number of iterations.\", ConvergenceWarning)\n",
      "C:\\Users\\Aruna\\Anaconda3\\lib\\site-packages\\sklearn\\svm\\base.py:931: ConvergenceWarning: Liblinear failed to converge, increase the number of iterations.\n",
      "  \"the number of iterations.\", ConvergenceWarning)\n",
      "C:\\Users\\Aruna\\Anaconda3\\lib\\site-packages\\sklearn\\svm\\base.py:931: ConvergenceWarning: Liblinear failed to converge, increase the number of iterations.\n",
      "  \"the number of iterations.\", ConvergenceWarning)\n",
      "C:\\Users\\Aruna\\Anaconda3\\lib\\site-packages\\sklearn\\svm\\base.py:931: ConvergenceWarning: Liblinear failed to converge, increase the number of iterations.\n",
      "  \"the number of iterations.\", ConvergenceWarning)\n",
      "C:\\Users\\Aruna\\Anaconda3\\lib\\site-packages\\sklearn\\svm\\base.py:931: ConvergenceWarning: Liblinear failed to converge, increase the number of iterations.\n",
      "  \"the number of iterations.\", ConvergenceWarning)\n"
     ]
    },
    {
     "name": "stdout",
     "output_type": "stream",
     "text": [
      "Best Score:  0.7801067784586994\n",
      "Best Params:  {'clf__C': 1}\n"
     ]
    }
   ],
   "source": [
    "from sklearn.model_selection import GridSearchCV\n",
    "\n",
    "parameters = {'clf__C': [0.001, 0.01, 0.1, 1, 10, 100, 1000]}\n",
    "\n",
    "\n",
    "clf = GridSearchCV(svm, parameters, cv=3)\n",
    "\n",
    "clf.fit(X_train, y_train)\n",
    "\n",
    "print(\"Best Score: \", clf.best_score_)\n",
    "print(\"Best Params: \", clf.best_params_)"
   ]
  },
  {
   "cell_type": "code",
   "execution_count": 20,
   "metadata": {},
   "outputs": [
    {
     "name": "stdout",
     "output_type": "stream",
     "text": [
      "Best Score:  0.7898245782464225\n",
      "Best Params:  {'vect__ngram_range': (1, 2)}\n"
     ]
    }
   ],
   "source": [
    "from sklearn.model_selection import GridSearchCV\n",
    "\n",
    "parameters = {'vect__ngram_range': [(1,1), (1,2), (1,3)]}\n",
    "\n",
    "\n",
    "clf = GridSearchCV(svm, parameters, cv=3)\n",
    "\n",
    "clf.fit(X_train, y_train)\n",
    "\n",
    "print(\"Best Score: \", clf.best_score_)\n",
    "print(\"Best Params: \", clf.best_params_)"
   ]
  },
  {
   "cell_type": "code",
   "execution_count": 21,
   "metadata": {},
   "outputs": [
    {
     "name": "stdout",
     "output_type": "stream",
     "text": [
      "Best Score:  0.7801067784586994\n",
      "Best Params:  {'vect__use_idf': True}\n"
     ]
    }
   ],
   "source": [
    "from sklearn.model_selection import GridSearchCV\n",
    "\n",
    "parameters = {'vect__use_idf': [True, False]}\n",
    "\n",
    "\n",
    "clf = GridSearchCV(svm, parameters, cv=3)\n",
    "\n",
    "clf.fit(X_train, y_train)\n",
    "\n",
    "print(\"Best Score: \", clf.best_score_)\n",
    "print(\"Best Params: \", clf.best_params_)"
   ]
  },
  {
   "cell_type": "code",
   "execution_count": 22,
   "metadata": {},
   "outputs": [
    {
     "name": "stdout",
     "output_type": "stream",
     "text": [
      "Best Score:  0.7801067784586994\n",
      "Best Params:  {'clf__max_iter': 100}\n"
     ]
    }
   ],
   "source": [
    "from sklearn.model_selection import GridSearchCV\n",
    "\n",
    "parameters = {'clf__max_iter':  [100, 1000, 10000]}\n",
    "\n",
    "\n",
    "clf = GridSearchCV(svm, parameters, cv=3)\n",
    "\n",
    "clf.fit(X_train, y_train)\n",
    "\n",
    "print(\"Best Score: \", clf.best_score_)\n",
    "print(\"Best Params: \", clf.best_params_)"
   ]
  },
  {
   "cell_type": "code",
   "execution_count": 23,
   "metadata": {},
   "outputs": [
    {
     "name": "stdout",
     "output_type": "stream",
     "text": [
      "Best Score:  0.769066248513262\n",
      "Best Params:  {'vect__max_features': 10000}\n"
     ]
    }
   ],
   "source": [
    "from sklearn.model_selection import GridSearchCV\n",
    "\n",
    "parameters = {'vect__max_features': [100, 1000, 10000]}\n",
    "\n",
    "\n",
    "clf = GridSearchCV(svm, parameters, cv=3)\n",
    "\n",
    "clf.fit(X_train, y_train)\n",
    "\n",
    "print(\"Best Score: \", clf.best_score_)\n",
    "print(\"Best Params: \", clf.best_params_)"
   ]
  },
  {
   "cell_type": "code",
   "execution_count": 25,
   "metadata": {},
   "outputs": [
    {
     "name": "stdout",
     "output_type": "stream",
     "text": [
      "Best Score:  0.7801067784586994\n",
      "Best Params:  {'vect__min_df': 1}\n"
     ]
    }
   ],
   "source": [
    "from sklearn.model_selection import GridSearchCV\n",
    "\n",
    "parameters = {'vect__min_df': [1, 0.01, 0.05, 0.1]}\n",
    "\n",
    "\n",
    "clf = GridSearchCV(svm, parameters, cv=3)\n",
    "\n",
    "clf.fit(X_train, y_train)\n",
    "\n",
    "print(\"Best Score: \", clf.best_score_)\n",
    "print(\"Best Params: \", clf.best_params_)"
   ]
  },
  {
   "cell_type": "code",
   "execution_count": 26,
   "metadata": {},
   "outputs": [
    {
     "name": "stdout",
     "output_type": "stream",
     "text": [
      "Best Score:  0.7801067784586994\n",
      "Best Params:  {'vect__max_df': 1.0}\n"
     ]
    }
   ],
   "source": [
    "from sklearn.model_selection import GridSearchCV\n",
    "\n",
    "parameters = {'vect__max_df': [1.0, 0.9, 0.8, 0.7]}\n",
    "\n",
    "\n",
    "clf = GridSearchCV(svm, parameters, cv=3)\n",
    "\n",
    "clf.fit(X_train, y_train)\n",
    "\n",
    "print(\"Best Score: \", clf.best_score_)\n",
    "print(\"Best Params: \", clf.best_params_)"
   ]
  },
  {
   "cell_type": "markdown",
   "metadata": {},
   "source": [
    "#### Conclusion: No additional factors need to be tuned in the SVM model apart from adding bi-gram instead of uni-gram features."
   ]
  },
  {
   "cell_type": "markdown",
   "metadata": {},
   "source": [
    "### Tuned Model"
   ]
  },
  {
   "cell_type": "code",
   "execution_count": 27,
   "metadata": {},
   "outputs": [
    {
     "data": {
      "text/plain": [
       "Pipeline(memory=None,\n",
       "     steps=[('vect', TfidfVectorizer(analyzer='word', binary=False, decode_error='strict',\n",
       "        dtype=<class 'numpy.float64'>, encoding='utf-8', input='content',\n",
       "        lowercase=True, max_df=1.0, max_features=None, min_df=1,\n",
       "        ngram_range=(1, 2), norm='l2', preprocessor=None, smooth_idf=True,\n",
       "...ax_iter=1000,\n",
       "     multi_class='ovr', penalty='l2', random_state=None, tol=0.0001,\n",
       "     verbose=0))])"
      ]
     },
     "execution_count": 27,
     "metadata": {},
     "output_type": "execute_result"
    }
   ],
   "source": [
    "svm = Pipeline([('vect', TfidfVectorizer(ngram_range=(1,2))), ('clf', LinearSVC())])\n",
    "svm.fit(X_train, y_train)"
   ]
  },
  {
   "cell_type": "code",
   "execution_count": 28,
   "metadata": {},
   "outputs": [
    {
     "name": "stdout",
     "output_type": "stream",
     "text": [
      "                          precision    recall  f1-score   support\n",
      "\n",
      "       Amazon CloudFront       0.82      0.64      0.72      5723\n",
      "              Amazon EC2       0.78      0.89      0.83     30066\n",
      "Amazon Elastic Beanstalk       0.82      0.67      0.74      6717\n",
      "           Amazon Lambda       0.86      0.65      0.74      2671\n",
      "              Amazon RDS       0.85      0.81      0.83     11594\n",
      "               Amazon S3       0.79      0.84      0.81     15950\n",
      "              Amazon SNS       0.88      0.67      0.76      1376\n",
      "              Amazon VPC       0.80      0.65      0.72      6257\n",
      "\n",
      "               micro avg       0.80      0.80      0.80     80354\n",
      "               macro avg       0.82      0.73      0.77     80354\n",
      "            weighted avg       0.80      0.80      0.80     80354\n",
      "\n",
      "accuracy: 0.7989770266570426\n"
     ]
    }
   ],
   "source": [
    "predictions = svm.predict(X_test)\n",
    "print(classification_report(y_test, predictions))\n",
    "print('accuracy:', accuracy_score(predictions, y_test))"
   ]
  },
  {
   "cell_type": "code",
   "execution_count": 29,
   "metadata": {},
   "outputs": [
    {
     "data": {
      "text/plain": [
       "<matplotlib.axes._subplots.AxesSubplot at 0x2830bb08710>"
      ]
     },
     "execution_count": 29,
     "metadata": {},
     "output_type": "execute_result"
    },
    {
     "data": {
      "image/png": "[encoded data removed]",
      "text/plain": [
       "<Figure size 720x504 with 2 Axes>"
      ]
     },
     "metadata": {
      "needs_background": "light"
     },
     "output_type": "display_data"
    }
   ],
   "source": [
    "array = confusion_matrix(y_test, predictions);\n",
    "names = [\"Cloudfront\", \"EC2\", \"Elastic Beanstalk\", \"Lambda\", \"RDS\", \"S3\", \"SNS\", \"VPC\"]\n",
    "\n",
    "df_cm = pd.DataFrame(array, index = [i for i in names], columns = [i for i in names])\n",
    "\n",
    "plt.figure(figsize = (10,7))\n",
    "sb.heatmap(df_cm, annot=True)"
   ]
  },
  {
   "cell_type": "code",
   "execution_count": 30,
   "metadata": {},
   "outputs": [
    {
     "data": {
      "text/plain": [
       "array([[ 3637,   692,    62,    32,   100,  1164,     8,    28],\n",
       "       [  177, 26612,   474,    63,   761,  1232,    37,   710],\n",
       "       [   76,  1430,  4515,    49,   226,   334,    15,    72],\n",
       "       [   44,   382,   105,  1723,    96,   256,    25,    40],\n",
       "       [   43,  1593,   121,    20,  9374,   321,     8,   114],\n",
       "       [  410,  1642,   143,    73,   244, 13348,    31,    59],\n",
       "       [   10,   212,    35,    25,    35,   126,   926,     7],\n",
       "       [   22,  1714,    52,    20,   166,   211,     6,  4066]],\n",
       "      dtype=int64)"
      ]
     },
     "execution_count": 30,
     "metadata": {},
     "output_type": "execute_result"
    }
   ],
   "source": [
    "confusion_matrix(y_test, predictions)"
   ]
  },
  {
   "cell_type": "code",
   "execution_count": null,
   "metadata": {},
   "outputs": [],
   "source": []
  },
  {
   "cell_type": "code",
   "execution_count": null,
   "metadata": {},
   "outputs": [],
   "source": []
  },
  {
   "cell_type": "code",
   "execution_count": null,
   "metadata": {},
   "outputs": [],
   "source": []
  },
  {
   "cell_type": "code",
   "execution_count": 24,
   "metadata": {},
   "outputs": [],
   "source": [
    "LinearSVC?"
   ]
  },
  {
   "cell_type": "code",
   "execution_count": null,
   "metadata": {},
   "outputs": [],
   "source": [
    "# Choose some parameter combinations to try\n",
    "parameters = {\n",
    "    'vect__ngram_range': [(1,1), (1,2), (1,3)],\n",
    "    'vect__max_df': [1.0, 0.9, 0.8, 0.7],\n",
    "    'vect__min_df': [1, 0.01, 0.05, 0.1],\n",
    "    'vect__max_features': [100, 1000, None],\n",
    "    'vect__use_idf': [True, False],\n",
    "    'clf__c': [0.1, 1, 10, 100, 1000],\n",
    "    'clf__max_iter':  [100, 1000, 10000]\n",
    "}"
   ]
  }
 ],
 "metadata": {
  "kernelspec": {
   "display_name": "Python 3",
   "language": "python",
   "name": "python3"
  },
  "language_info": {
   "codemirror_mode": {
    "name": "ipython",
    "version": 3
   },
   "file_extension": ".py",
   "mimetype": "text/x-python",
   "name": "python",
   "nbconvert_exporter": "python",
   "pygments_lexer": "ipython3",
   "version": "3.7.3"
  }
 },
 "nbformat": 4,
 "nbformat_minor": 2
}
