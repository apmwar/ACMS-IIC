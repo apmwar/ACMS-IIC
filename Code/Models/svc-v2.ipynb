{
 "cells": [
  {
   "cell_type": "markdown",
   "metadata": {},
   "source": [
    "# ML Model to predict the AWS Product"
   ]
  },
  {
   "cell_type": "markdown",
   "metadata": {},
   "source": [
    "### Import the necessary libraries"
   ]
  },
  {
   "cell_type": "code",
   "execution_count": 1,
   "metadata": {},
   "outputs": [],
   "source": [
    "import pandas as pd\n",
    "import csv"
   ]
  },
  {
   "cell_type": "code",
   "execution_count": 2,
   "metadata": {},
   "outputs": [],
   "source": [
    "import matplotlib.pyplot as plt\n",
    "import seaborn as sb\n",
    "\n",
    "%matplotlib inline\n",
    "pd.set_option('display.max_colwidth', 150)"
   ]
  },
  {
   "cell_type": "markdown",
   "metadata": {},
   "source": [
    "### (A) Read the CSV file"
   ]
  },
  {
   "cell_type": "code",
   "execution_count": 3,
   "metadata": {
    "scrolled": false
   },
   "outputs": [
    {
     "data": {
      "text/html": [
       "<div>\n",
       "<style scoped>\n",
       "    .dataframe tbody tr th:only-of-type {\n",
       "        vertical-align: middle;\n",
       "    }\n",
       "\n",
       "    .dataframe tbody tr th {\n",
       "        vertical-align: top;\n",
       "    }\n",
       "\n",
       "    .dataframe thead th {\n",
       "        text-align: right;\n",
       "    }\n",
       "</style>\n",
       "<table border=\"1\" class=\"dataframe\">\n",
       "  <thead>\n",
       "    <tr style=\"text-align: right;\">\n",
       "      <th></th>\n",
       "      <th>id</th>\n",
       "      <th>label</th>\n",
       "      <th>description</th>\n",
       "    </tr>\n",
       "  </thead>\n",
       "  <tbody>\n",
       "    <tr>\n",
       "      <th>0</th>\n",
       "      <td>1737.0</td>\n",
       "      <td>Amazon SNS</td>\n",
       "      <td>sms failure delivery retrieval detailed sms log using service sms notification event failed sms get acknowledgment containing detailed log object ...</td>\n",
       "    </tr>\n",
       "    <tr>\n",
       "      <th>1</th>\n",
       "      <td>1736.0</td>\n",
       "      <td>Amazon SNS</td>\n",
       "      <td>messages coming multiple accounts single sms short code use simple notification service send transactional sms messages clients requested notifica...</td>\n",
       "    </tr>\n",
       "    <tr>\n",
       "      <th>2</th>\n",
       "      <td>1735.0</td>\n",
       "      <td>Amazon SNS</td>\n",
       "      <td>android fcm support unity plugin unity plugin build android due use depricated gcm api awsunitygcmwrapper going update plugin builds fcm anyone go...</td>\n",
       "    </tr>\n",
       "    <tr>\n",
       "      <th>3</th>\n",
       "      <td>1734.0</td>\n",
       "      <td>Amazon SNS</td>\n",
       "      <td>otp message delivery issue facing issue otp message delivery production environment mix behavior message getting delivered message delivered user ...</td>\n",
       "    </tr>\n",
       "    <tr>\n",
       "      <th>4</th>\n",
       "      <td>1733.0</td>\n",
       "      <td>Amazon SNS</td>\n",
       "      <td>simulating message persistence using sqs evaluating messaging requirements integrate multiple applications single producer publishes messages mult...</td>\n",
       "    </tr>\n",
       "    <tr>\n",
       "      <th>5</th>\n",
       "      <td>1732.0</td>\n",
       "      <td>Amazon SNS</td>\n",
       "      <td>sms messages delivered trying send sms messages via quite messages sent number delivered enabled cloudwatch logging shows correct entries provider...</td>\n",
       "    </tr>\n",
       "    <tr>\n",
       "      <th>6</th>\n",
       "      <td>1731.0</td>\n",
       "      <td>Amazon SNS</td>\n",
       "      <td>sms delivery fails phone currently unreachable unavailable started observing behaviour today used work last week sms deliveries including messages...</td>\n",
       "    </tr>\n",
       "    <tr>\n",
       "      <th>7</th>\n",
       "      <td>1730.0</td>\n",
       "      <td>Amazon SNS</td>\n",
       "      <td>budget alert message sample implementing receive message budget alert created billing panel find place web sample message looks like chance one me...</td>\n",
       "    </tr>\n",
       "    <tr>\n",
       "      <th>8</th>\n",
       "      <td>1730.0</td>\n",
       "      <td>Amazon SNS</td>\n",
       "      <td>page configure test event option select event teplate look topic notification create entire test message json format looks like records eventsourc...</td>\n",
       "    </tr>\n",
       "    <tr>\n",
       "      <th>9</th>\n",
       "      <td>1729.0</td>\n",
       "      <td>Amazon SNS</td>\n",
       "      <td>mobile push endpoints use default content instead apns recently diving mobile push api registered many ios clients correct topics node.js server s...</td>\n",
       "    </tr>\n",
       "  </tbody>\n",
       "</table>\n",
       "</div>"
      ],
      "text/plain": [
       "       id       label  \\\n",
       "0  1737.0  Amazon SNS   \n",
       "1  1736.0  Amazon SNS   \n",
       "2  1735.0  Amazon SNS   \n",
       "3  1734.0  Amazon SNS   \n",
       "4  1733.0  Amazon SNS   \n",
       "5  1732.0  Amazon SNS   \n",
       "6  1731.0  Amazon SNS   \n",
       "7  1730.0  Amazon SNS   \n",
       "8  1730.0  Amazon SNS   \n",
       "9  1729.0  Amazon SNS   \n",
       "\n",
       "                                                                                                                                             description  \n",
       "0  sms failure delivery retrieval detailed sms log using service sms notification event failed sms get acknowledgment containing detailed log object ...  \n",
       "1  messages coming multiple accounts single sms short code use simple notification service send transactional sms messages clients requested notifica...  \n",
       "2  android fcm support unity plugin unity plugin build android due use depricated gcm api awsunitygcmwrapper going update plugin builds fcm anyone go...  \n",
       "3  otp message delivery issue facing issue otp message delivery production environment mix behavior message getting delivered message delivered user ...  \n",
       "4  simulating message persistence using sqs evaluating messaging requirements integrate multiple applications single producer publishes messages mult...  \n",
       "5  sms messages delivered trying send sms messages via quite messages sent number delivered enabled cloudwatch logging shows correct entries provider...  \n",
       "6  sms delivery fails phone currently unreachable unavailable started observing behaviour today used work last week sms deliveries including messages...  \n",
       "7  budget alert message sample implementing receive message budget alert created billing panel find place web sample message looks like chance one me...  \n",
       "8  page configure test event option select event teplate look topic notification create entire test message json format looks like records eventsourc...  \n",
       "9  mobile push endpoints use default content instead apns recently diving mobile push api registered many ios clients correct topics node.js server s...  "
      ]
     },
     "execution_count": 3,
     "metadata": {},
     "output_type": "execute_result"
    }
   ],
   "source": [
    "df = pd.read_csv('C:\\\\Users\\\\Aruna\\\\Documents\\\\ACMS-IID\\\\input\\\\Clean.csv')\n",
    "df['description'] = df['description'].apply(lambda x: \" \".join(x for x in str(x).split()))\n",
    "df.head(10)"
   ]
  },
  {
   "cell_type": "markdown",
   "metadata": {},
   "source": [
    "#### Check the spread of tags in the data"
   ]
  },
  {
   "cell_type": "code",
   "execution_count": 4,
   "metadata": {},
   "outputs": [
    {
     "name": "stdout",
     "output_type": "stream",
     "text": [
      "<class 'pandas.core.frame.DataFrame'>\n",
      "RangeIndex: 267845 entries, 0 to 267844\n",
      "Data columns (total 3 columns):\n",
      "id             267843 non-null float64\n",
      "label          267845 non-null object\n",
      "description    267845 non-null object\n",
      "dtypes: float64(1), object(2)\n",
      "memory usage: 6.1+ MB\n"
     ]
    }
   ],
   "source": [
    "df.info()"
   ]
  },
  {
   "cell_type": "code",
   "execution_count": 5,
   "metadata": {},
   "outputs": [
    {
     "data": {
      "text/plain": [
       "count         267845\n",
       "unique             8\n",
       "top       Amazon EC2\n",
       "freq          100000\n",
       "Name: label, dtype: object"
      ]
     },
     "execution_count": 5,
     "metadata": {},
     "output_type": "execute_result"
    }
   ],
   "source": [
    "df['label'].describe()"
   ]
  },
  {
   "cell_type": "code",
   "execution_count": 6,
   "metadata": {},
   "outputs": [
    {
     "data": {
      "image/png": "[encoded data removed]",
      "text/plain": [
       "<Figure size 720x288 with 1 Axes>"
      ]
     },
     "metadata": {
      "needs_background": "light"
     },
     "output_type": "display_data"
    }
   ],
   "source": [
    "plt.figure(figsize=(10,4))\n",
    "df.label.value_counts().plot(kind='bar');"
   ]
  },
  {
   "cell_type": "code",
   "execution_count": 7,
   "metadata": {},
   "outputs": [
    {
     "data": {
      "image/png": "[encoded data removed]",
      "text/plain": [
       "<Figure size 7200x288 with 1 Axes>"
      ]
     },
     "metadata": {},
     "output_type": "display_data"
    }
   ],
   "source": [
    "plt.figure(figsize=(100,4))\n",
    "df.label.value_counts().plot(kind='pie');"
   ]
  },
  {
   "cell_type": "markdown",
   "metadata": {},
   "source": [
    "#### Check out one sample post"
   ]
  },
  {
   "cell_type": "code",
   "execution_count": 8,
   "metadata": {},
   "outputs": [
    {
     "data": {
      "text/plain": [
       "'major gap make sure dev team aware customer pain point ideally allow connect send messages internal machines'"
      ]
     },
     "execution_count": 8,
     "metadata": {},
     "output_type": "execute_result"
    }
   ],
   "source": [
    "df['description'][100]"
   ]
  },
  {
   "cell_type": "markdown",
   "metadata": {},
   "source": [
    "#### Top 30 words + frequency of each:"
   ]
  },
  {
   "cell_type": "code",
   "execution_count": 9,
   "metadata": {},
   "outputs": [
    {
     "data": {
      "text/plain": [
       "instance     188147\n",
       "using         67516\n",
       "error         60822\n",
       "server        56111\n",
       "get           52442\n",
       "new           50759\n",
       "use           50424\n",
       "file          50169\n",
       "issue         47550\n",
       "instances     47097\n",
       "one           45103\n",
       "see           43075\n",
       "bucket        41488\n",
       "like          40908\n",
       "time          39673\n",
       "access        38629\n",
       "problem       38230\n",
       "ms            37878\n",
       "need          37660\n",
       "also          36311\n",
       "running       36018\n",
       "help          35346\n",
       "set           32010\n",
       "request       31944\n",
       "data          31394\n",
       "files         31209\n",
       "create        29111\n",
       "still         28503\n",
       "security      25676\n",
       "account       25433\n",
       "dtype: int64"
      ]
     },
     "execution_count": 9,
     "metadata": {},
     "output_type": "execute_result"
    }
   ],
   "source": [
    "freq = pd.Series(' '.join(df['description']).split()).value_counts()[:30]\n",
    "freq"
   ]
  },
  {
   "cell_type": "code",
   "execution_count": 10,
   "metadata": {},
   "outputs": [
    {
     "name": "stdout",
     "output_type": "stream",
     "text": [
      "There are totally 11118429 words.\n"
     ]
    }
   ],
   "source": [
    "print(\"There are totally\", df['description'].apply(lambda x: len(x.split(' '))).sum(), \"words.\")"
   ]
  },
  {
   "cell_type": "markdown",
   "metadata": {},
   "source": [
    "### (C) Feature Engineering & Model Deployment"
   ]
  },
  {
   "cell_type": "code",
   "execution_count": 11,
   "metadata": {},
   "outputs": [
    {
     "data": {
      "text/plain": [
       "(187491,)"
      ]
     },
     "execution_count": 11,
     "metadata": {},
     "output_type": "execute_result"
    }
   ],
   "source": [
    "from sklearn.model_selection import train_test_split\n",
    "\n",
    "X = df['description']\n",
    "y = df['label']\n",
    "X_train, X_test, y_train, y_test = train_test_split(X, y, test_size=0.3, random_state = 42)\n",
    "\n",
    "X_train.shape"
   ]
  },
  {
   "cell_type": "code",
   "execution_count": 12,
   "metadata": {},
   "outputs": [],
   "source": [
    "from sklearn.naive_bayes import MultinomialNB\n",
    "from sklearn.pipeline import Pipeline\n",
    "from sklearn.feature_extraction.text import TfidfVectorizer\n",
    "\n",
    "from sklearn.metrics import classification_report\n",
    "from sklearn.metrics import accuracy_score\n",
    "from sklearn.metrics import confusion_matrix"
   ]
  },
  {
   "cell_type": "markdown",
   "metadata": {},
   "source": [
    "## Linear SVC Model"
   ]
  },
  {
   "cell_type": "code",
   "execution_count": 13,
   "metadata": {},
   "outputs": [
    {
     "data": {
      "text/plain": [
       "Pipeline(memory=None,\n",
       "     steps=[('vect', TfidfVectorizer(analyzer='word', binary=False, decode_error='strict',\n",
       "        dtype=<class 'numpy.float64'>, encoding='utf-8', input='content',\n",
       "        lowercase=True, max_df=1.0, max_features=None, min_df=1,\n",
       "        ngram_range=(1, 1), norm='l2', preprocessor=None, smooth_idf=True,\n",
       "...ax_iter=1000,\n",
       "     multi_class='ovr', penalty='l2', random_state=None, tol=0.0001,\n",
       "     verbose=0))])"
      ]
     },
     "execution_count": 13,
     "metadata": {},
     "output_type": "execute_result"
    }
   ],
   "source": [
    "from sklearn.svm import LinearSVC\n",
    "\n",
    "svm = Pipeline([('vect', TfidfVectorizer()), ('clf', LinearSVC())])\n",
    "\n",
    "svm.fit(X_train, y_train)"
   ]
  },
  {
   "cell_type": "code",
   "execution_count": 14,
   "metadata": {},
   "outputs": [
    {
     "name": "stdout",
     "output_type": "stream",
     "text": [
      "                          precision    recall  f1-score   support\n",
      "\n",
      "       Amazon CloudFront       0.81      0.63      0.71      5723\n",
      "              Amazon EC2       0.76      0.89      0.82     30066\n",
      "Amazon Elastic Beanstalk       0.82      0.67      0.74      6717\n",
      "           Amazon Lambda       0.84      0.63      0.72      2671\n",
      "              Amazon RDS       0.83      0.77      0.80     11594\n",
      "               Amazon S3       0.79      0.82      0.81     15950\n",
      "              Amazon SNS       0.86      0.67      0.75      1376\n",
      "              Amazon VPC       0.79      0.63      0.70      6257\n",
      "\n",
      "               micro avg       0.79      0.79      0.79     80354\n",
      "               macro avg       0.81      0.71      0.76     80354\n",
      "            weighted avg       0.79      0.79      0.79     80354\n",
      "\n",
      "accuracy: 0.7879881524255171\n"
     ]
    }
   ],
   "source": [
    "predictions = svm.predict(X_test)\n",
    "print(classification_report(y_test, predictions))\n",
    "print('accuracy:', accuracy_score(predictions, y_test))"
   ]
  },
  {
   "cell_type": "code",
   "execution_count": 15,
   "metadata": {},
   "outputs": [
    {
     "data": {
      "text/plain": [
       "<matplotlib.axes._subplots.AxesSubplot at 0x28311e305f8>"
      ]
     },
     "execution_count": 15,
     "metadata": {},
     "output_type": "execute_result"
    },
    {
     "data": {
      "image/png": "[encoded data removed]",
      "text/plain": [
       "<Figure size 720x504 with 2 Axes>"
      ]
     },
     "metadata": {
      "needs_background": "light"
     },
     "output_type": "display_data"
    }
   ],
   "source": [
    "array = confusion_matrix(y_test, predictions);\n",
    "names = [\"Cloudfront\", \"EC2\", \"Elastic Beanstalk\", \"Lambda\", \"RDS\", \"S3\", \"SNS\", \"VPC\"]\n",
    "\n",
    "df_cm = pd.DataFrame(array, index = [i for i in names], columns = [i for i in names])\n",
    "\n",
    "plt.figure(figsize = (10,7))\n",
    "sb.heatmap(df_cm, annot=True)\n"
   ]
  },
  {
   "cell_type": "code",
   "execution_count": 16,
   "metadata": {},
   "outputs": [
    {
     "data": {
      "text/plain": [
       "array([[ 3612,   717,    49,    45,   120,  1140,    10,    30],\n",
       "       [  178, 26613,   484,    69,   851,  1137,    41,   693],\n",
       "       [   59,  1475,  4494,    49,   229,   306,    20,    85],\n",
       "       [   47,   417,   100,  1691,   105,   240,    28,    43],\n",
       "       [   44,  1997,   127,    32,  8892,   368,    13,   121],\n",
       "       [  461,  1770,   135,    84,   281, 13133,    32,    54],\n",
       "       [   16,   225,    32,    20,    34,   122,   919,     8],\n",
       "       [   28,  1796,    54,    19,   182,   204,    10,  3964]],\n",
       "      dtype=int64)"
      ]
     },
     "execution_count": 16,
     "metadata": {},
     "output_type": "execute_result"
    }
   ],
   "source": [
    "confusion_matrix(y_test, predictions)"
   ]
  },
  {
   "cell_type": "markdown",
   "metadata": {},
   "source": [
    "## Parameter tuning"
   ]
  },
  {
   "cell_type": "code",
   "execution_count": 19,
   "metadata": {},
   "outputs": [
    {
     "name": "stderr",
     "output_type": "stream",
     "text": [
      "C:\\Users\\Aruna\\Anaconda3\\lib\\site-packages\\sklearn\\svm\\base.py:931: ConvergenceWarning: Liblinear failed to converge, increase the number of iterations.\n",
      "  \"the number of iterations.\", ConvergenceWarning)\n",
      "C:\\Users\\Aruna\\Anaconda3\\lib\\site-packages\\sklearn\\svm\\base.py:931: ConvergenceWarning: Liblinear failed to converge, increase the number of iterations.\n",
      "  \"the number of iterations.\", ConvergenceWarning)\n",
      "C:\\Users\\Aruna\\Anaconda3\\lib\\site-packages\\sklearn\\svm\\base.py:931: ConvergenceWarning: Liblinear failed to converge, increase the number of iterations.\n",
      "  \"the number of iterations.\", ConvergenceWarning)\n",
      "C:\\Users\\Aruna\\Anaconda3\\lib\\site-packages\\sklearn\\svm\\base.py:931: ConvergenceWarning: Liblinear failed to converge, increase the number of iterations.\n",
      "  \"the number of iterations.\", ConvergenceWarning)\n",
      "C:\\Users\\Aruna\\Anaconda3\\lib\\site-packages\\sklearn\\svm\\base.py:931: ConvergenceWarning: Liblinear failed to converge, increase the number of iterations.\n",
      "  \"the number of iterations.\", ConvergenceWarning)\n",
      "C:\\Users\\Aruna\\Anaconda3\\lib\\site-packages\\sklearn\\svm\\base.py:931: ConvergenceWarning: Liblinear failed to converge, increase the number of iterations.\n",
      "  \"the number of iterations.\", ConvergenceWarning)\n"
     ]
    },
    {
     "name": "stdout",
     "output_type": "stream",
     "text": [
      "Best Score:  0.7801067784586994\n",
      "Best Params:  {'clf__C': 1}\n"
     ]
    }
   ],
   "source": [
    "from sklearn.model_selection import GridSearchCV\n",
    "\n",
    "parameters = {'clf__C': [0.001, 0.01, 0.1, 1, 10, 100, 1000]}\n",
    "\n",
    "\n",
    "clf = GridSearchCV(svm, parameters, cv=3)\n",
    "\n",
    "clf.fit(X_train, y_train)\n",
    "\n",
    "print(\"Best Score: \", clf.best_score_)\n",
    "print(\"Best Params: \", clf.best_params_)"
   ]
  },
  {
   "cell_type": "code",
   "execution_count": 20,
   "metadata": {},
   "outputs": [
    {
     "name": "stdout",
     "output_type": "stream",
     "text": [
      "Best Score:  0.7898245782464225\n",
      "Best Params:  {'vect__ngram_range': (1, 2)}\n"
     ]
    }
   ],
   "source": [
    "from sklearn.model_selection import GridSearchCV\n",
    "\n",
    "parameters = {'vect__ngram_range': [(1,1), (1,2), (1,3)]}\n",
    "\n",
    "\n",
    "clf = GridSearchCV(svm, parameters, cv=3)\n",
    "\n",
    "clf.fit(X_train, y_train)\n",
    "\n",
    "print(\"Best Score: \", clf.best_score_)\n",
    "print(\"Best Params: \", clf.best_params_)"
   ]
  },
  {
   "cell_type": "code",
   "execution_count": 21,
   "metadata": {},
   "outputs": [
    {
     "name": "stdout",
     "output_type": "stream",
     "text": [
      "Best Score:  0.7801067784586994\n",
      "Best Params:  {'vect__use_idf': True}\n"
     ]
    }
   ],
   "source": [
    "from sklearn.model_selection import GridSearchCV\n",
    "\n",
    "parameters = {'vect__use_idf': [True, False]}\n",
    "\n",
    "\n",
    "clf = GridSearchCV(svm, parameters, cv=3)\n",
    "\n",
    "clf.fit(X_train, y_train)\n",
    "\n",
    "print(\"Best Score: \", clf.best_score_)\n",
    "print(\"Best Params: \", clf.best_params_)"
   ]
  },
  {
   "cell_type": "code",
   "execution_count": 22,
   "metadata": {},
   "outputs": [
    {
     "name": "stdout",
     "output_type": "stream",
     "text": [
      "Best Score:  0.7801067784586994\n",
      "Best Params:  {'clf__max_iter': 100}\n"
     ]
    }
   ],
   "source": [
    "from sklearn.model_selection import GridSearchCV\n",
    "\n",
    "parameters = {'clf__max_iter':  [100, 1000, 10000]}\n",
    "\n",
    "\n",
    "clf = GridSearchCV(svm, parameters, cv=3)\n",
    "\n",
    "clf.fit(X_train, y_train)\n",
    "\n",
    "print(\"Best Score: \", clf.best_score_)\n",
    "print(\"Best Params: \", clf.best_params_)"
   ]
  },
  {
   "cell_type": "code",
   "execution_count": 23,
   "metadata": {},
   "outputs": [
    {
     "name": "stdout",
     "output_type": "stream",
     "text": [
      "Best Score:  0.769066248513262\n",
      "Best Params:  {'vect__max_features': 10000}\n"
     ]
    }
   ],
   "source": [
    "from sklearn.model_selection import GridSearchCV\n",
    "\n",
    "parameters = {'vect__max_features': [100, 1000, 10000]}\n",
    "\n",
    "\n",
    "clf = GridSearchCV(svm, parameters, cv=3)\n",
    "\n",
    "clf.fit(X_train, y_train)\n",
    "\n",
    "print(\"Best Score: \", clf.best_score_)\n",
    "print(\"Best Params: \", clf.best_params_)"
   ]
  },
  {
   "cell_type": "code",
   "execution_count": 25,
   "metadata": {},
   "outputs": [
    {
     "name": "stdout",
     "output_type": "stream",
     "text": [
      "Best Score:  0.7801067784586994\n",
      "Best Params:  {'vect__min_df': 1}\n"
     ]
    }
   ],
   "source": [
    "from sklearn.model_selection import GridSearchCV\n",
    "\n",
    "parameters = {'vect__min_df': [1, 0.01, 0.05, 0.1]}\n",
    "\n",
    "\n",
    "clf = GridSearchCV(svm, parameters, cv=3)\n",
    "\n",
    "clf.fit(X_train, y_train)\n",
    "\n",
    "print(\"Best Score: \", clf.best_score_)\n",
    "print(\"Best Params: \", clf.best_params_)"
   ]
  },
  {
   "cell_type": "code",
   "execution_count": 26,
   "metadata": {},
   "outputs": [
    {
     "name": "stdout",
     "output_type": "stream",
     "text": [
      "Best Score:  0.7801067784586994\n",
      "Best Params:  {'vect__max_df': 1.0}\n"
     ]
    }
   ],
   "source": [
    "from sklearn.model_selection import GridSearchCV\n",
    "\n",
    "parameters = {'vect__max_df': [1.0, 0.9, 0.8, 0.7]}\n",
    "\n",
    "\n",
    "clf = GridSearchCV(svm, parameters, cv=3)\n",
    "\n",
    "clf.fit(X_train, y_train)\n",
    "\n",
    "print(\"Best Score: \", clf.best_score_)\n",
    "print(\"Best Params: \", clf.best_params_)"
   ]
  },
  {
   "cell_type": "markdown",
   "metadata": {},
   "source": [
    "#### Conclusion: No additional factors need to be tuned in the SVM model apart from adding bi-gram instead of uni-gram features."
   ]
  },
  {
   "cell_type": "markdown",
   "metadata": {},
   "source": [
    "### Tuned Model"
   ]
  },
  {
   "cell_type": "code",
   "execution_count": 27,
   "metadata": {},
   "outputs": [
    {
     "data": {
      "text/plain": [
       "Pipeline(memory=None,\n",
       "     steps=[('vect', TfidfVectorizer(analyzer='word', binary=False, decode_error='strict',\n",
       "        dtype=<class 'numpy.float64'>, encoding='utf-8', input='content',\n",
       "        lowercase=True, max_df=1.0, max_features=None, min_df=1,\n",
       "        ngram_range=(1, 2), norm='l2', preprocessor=None, smooth_idf=True,\n",
       "...ax_iter=1000,\n",
       "     multi_class='ovr', penalty='l2', random_state=None, tol=0.0001,\n",
       "     verbose=0))])"
      ]
     },
     "execution_count": 27,
     "metadata": {},
     "output_type": "execute_result"
    }
   ],
   "source": [
    "svm = Pipeline([('vect', TfidfVectorizer(ngram_range=(1,2))), ('clf', LinearSVC())])\n",
    "svm.fit(X_train, y_train)"
   ]
  },
  {
   "cell_type": "code",
   "execution_count": 28,
   "metadata": {},
   "outputs": [
    {
     "name": "stdout",
     "output_type": "stream",
     "text": [
      "                          precision    recall  f1-score   support\n",
      "\n",
      "       Amazon CloudFront       0.82      0.64      0.72      5723\n",
      "              Amazon EC2       0.78      0.89      0.83     30066\n",
      "Amazon Elastic Beanstalk       0.82      0.67      0.74      6717\n",
      "           Amazon Lambda       0.86      0.65      0.74      2671\n",
      "              Amazon RDS       0.85      0.81      0.83     11594\n",
      "               Amazon S3       0.79      0.84      0.81     15950\n",
      "              Amazon SNS       0.88      0.67      0.76      1376\n",
      "              Amazon VPC       0.80      0.65      0.72      6257\n",
      "\n",
      "               micro avg       0.80      0.80      0.80     80354\n",
      "               macro avg       0.82      0.73      0.77     80354\n",
      "            weighted avg       0.80      0.80      0.80     80354\n",
      "\n",
      "accuracy: 0.7989770266570426\n"
     ]
    }
   ],
   "source": [
    "predictions = svm.predict(X_test)\n",
    "print(classification_report(y_test, predictions))\n",
    "print('accuracy:', accuracy_score(predictions, y_test))"
   ]
  },
  {
   "cell_type": "code",
   "execution_count": 29,
   "metadata": {},
   "outputs": [
    {
     "data": {
      "text/plain": [
       "<matplotlib.axes._subplots.AxesSubplot at 0x2830bb08710>"
      ]
     },
     "execution_count": 29,
     "metadata": {},
     "output_type": "execute_result"
    },
    {
     "data": {
      "image/png": "[encoded data removed]",
      "text/plain": [
       "<Figure size 720x504 with 2 Axes>"
      ]
     },
     "metadata": {
      "needs_background": "light"
     },
     "output_type": "display_data"
    }
   ],
   "source": [
    "array = confusion_matrix(y_test, predictions);\n",
    "names = [\"Cloudfront\", \"EC2\", \"Elastic Beanstalk\", \"Lambda\", \"RDS\", \"S3\", \"SNS\", \"VPC\"]\n",
    "\n",
    "df_cm = pd.DataFrame(array, index = [i for i in names], columns = [i for i in names])\n",
    "\n",
    "plt.figure(figsize = (10,7))\n",
    "sb.heatmap(df_cm, annot=True)"
   ]
  },
  {
   "cell_type": "code",
   "execution_count": 30,
   "metadata": {},
   "outputs": [
    {
     "data": {
      "text/plain": [
       "array([[ 3637,   692,    62,    32,   100,  1164,     8,    28],\n",
       "       [  177, 26612,   474,    63,   761,  1232,    37,   710],\n",
       "       [   76,  1430,  4515,    49,   226,   334,    15,    72],\n",
       "       [   44,   382,   105,  1723,    96,   256,    25,    40],\n",
       "       [   43,  1593,   121,    20,  9374,   321,     8,   114],\n",
       "       [  410,  1642,   143,    73,   244, 13348,    31,    59],\n",
       "       [   10,   212,    35,    25,    35,   126,   926,     7],\n",
       "       [   22,  1714,    52,    20,   166,   211,     6,  4066]],\n",
       "      dtype=int64)"
      ]
     },
     "execution_count": 30,
     "metadata": {},
     "output_type": "execute_result"
    }
   ],
   "source": [
    "confusion_matrix(y_test, predictions)"
   ]
  },
  {
   "cell_type": "code",
   "execution_count": null,
   "metadata": {},
   "outputs": [],
   "source": []
  },
  {
   "cell_type": "code",
   "execution_count": null,
   "metadata": {},
   "outputs": [],
   "source": []
  },
  {
   "cell_type": "code",
   "execution_count": null,
   "metadata": {},
   "outputs": [],
   "source": []
  },
  {
   "cell_type": "code",
   "execution_count": 24,
   "metadata": {},
   "outputs": [],
   "source": [
    "LinearSVC?"
   ]
  },
  {
   "cell_type": "code",
   "execution_count": null,
   "metadata": {},
   "outputs": [],
   "source": [
    "# Choose some parameter combinations to try\n",
    "parameters = {\n",
    "    'vect__ngram_range': [(1,1), (1,2), (1,3)],\n",
    "    'vect__max_df': [1.0, 0.9, 0.8, 0.7],\n",
    "    'vect__min_df': [1, 0.01, 0.05, 0.1],\n",
    "    'vect__max_features': [100, 1000, None],\n",
    "    'vect__use_idf': [True, False],\n",
    "    'clf__c': [0.1, 1, 10, 100, 1000],\n",
    "    'clf__max_iter':  [100, 1000, 10000]\n",
    "}"
   ]
  }
 ],
 "metadata": {
  "kernelspec": {
   "display_name": "Python 3",
   "language": "python",
   "name": "python3"
  },
  "language_info": {
   "codemirror_mode": {
    "name": "ipython",
    "version": 3
   },
   "file_extension": ".py",
   "mimetype": "text/x-python",
   "name": "python",
   "nbconvert_exporter": "python",
   "pygments_lexer": "ipython3",
   "version": "3.7.3"
  }
 },
 "nbformat": 4,
 "nbformat_minor": 2
}
