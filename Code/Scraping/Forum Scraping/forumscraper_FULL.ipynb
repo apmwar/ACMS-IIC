{
 "cells": [
  {
   "cell_type": "markdown",
   "metadata": {},
   "source": [
    "## Code to scrape each forumID for ALL threads and store it into a TSV file"
   ]
  },
  {
   "cell_type": "markdown",
   "metadata": {},
   "source": [
    "### Importing the necessary libraries first"
   ]
  },
  {
   "cell_type": "code",
   "execution_count": null,
   "metadata": {},
   "outputs": [],
   "source": [
    "import requests\n",
    "from bs4 import BeautifulSoup\n",
    "import csv\n",
    "import time"
   ]
  },
  {
   "cell_type": "markdown",
   "metadata": {},
   "source": [
    "### Initialising some global variables first"
   ]
  },
  {
   "cell_type": "code",
   "execution_count": null,
   "metadata": {},
   "outputs": [],
   "source": [
    "tid = []               # contains all the thread IDs \n",
    "messages = []          # stores all the message contents\n",
    "subjects = []          # stores the subjects of the messages"
   ]
  },
  {
   "cell_type": "markdown",
   "metadata": {},
   "source": [
    "### Function to scrape all the thread IDs present within the forumID, store it into the variable tid\n",
    "#### Input: the forum URL"
   ]
  },
  {
   "cell_type": "code",
   "execution_count": null,
   "metadata": {},
   "outputs": [],
   "source": [
    "# function to connect to the given forum ID, retrieve all the threads present within that forum and store it in tid\n",
    "\n",
    "def connect(url):\n",
    "    headers = {\n",
    "        'User-Agent': 'Mozilla/5.0 (Windows NT 6.1) AppleWebKit/537.36 (KHTML, like Gecko) Chrome/41.0.2228.0 Safari/537.36',\n",
    "    }\n",
    "    res = requests.get(url, headers=headers)\n",
    "    res.raise_for_status()\n",
    "    \n",
    "    soup = BeautifulSoup(res.text, 'html.parser')\n",
    "    soup.prettify()\n",
    "\n",
    "    # all threadIDs have the following id\n",
    "    \n",
    "    hrefs = soup.find_all(\"a\", {\"id\": \"jive-thread-0\"})\n",
    "\n",
    "    for href in hrefs:\n",
    "        href = str(href)\n",
    "        href = href.split('href=\"')[1].split(\"&\")[0]\n",
    "        # href of form threads.jspa?threadID=xxx\n",
    "        tid.append(href)\n",
    "    return tid"
   ]
  },
  {
   "cell_type": "markdown",
   "metadata": {},
   "source": [
    "### Fetch all the messages inside each thread and store it into the final TSV file with tag as the name of the product\n",
    "\n",
    "#### Input: The thread URL and the target file name"
   ]
  },
  {
   "cell_type": "code",
   "execution_count": null,
   "metadata": {},
   "outputs": [],
   "source": [
    "# for each thread ID, fetches the messages present within thread\n",
    "\n",
    "def fetch(url, fname):\n",
    "    headers = {\n",
    "        'User-Agent': 'Mozilla/5.0 (Windows NT 6.1) AppleWebKit/537.36 (KHTML, like Gecko) Chrome/41.0.2228.0 Safari/537.36',\n",
    "    }\n",
    "    res = requests.get(url, headers=headers)\n",
    "    res.raise_for_status()\n",
    "    \n",
    "    soup = BeautifulSoup(res.text, 'html.parser')\n",
    "    soup.prettify()\n",
    "    \n",
    "    # all messages have the following subject class\n",
    "    \n",
    "    subs = soup.find_all(\"span\", {\"class\": \"jive-subject\"})\n",
    "    \n",
    "    for line in subs:\n",
    "        subjects.append(line.text.strip())\n",
    "    \n",
    "    # all messages have the following body class\n",
    "    \n",
    "    msgs = soup.find_all(\"div\", {\"class\": \"jive-message-body\"})\n",
    "    \n",
    "    for line in msgs:\n",
    "        msg = line.text.strip()\n",
    "        messages.append(msg)\n",
    "        \n",
    "        with open(fname + '.tsv', 'w', encoding='utf-8') as tsvfile:\n",
    "            writer = csv.writer(tsvfile, delimiter='\\t')\n",
    "            writer.writerow([\"label\", \"description\"])\n",
    "            for i, j in zip(subjects, messages):\n",
    "                writer.writerow([fname, i + \"\\n\" + j])"
   ]
  },
  {
   "cell_type": "markdown",
   "metadata": {},
   "source": [
    "### Code to fetch all the threadIDs for given ForumID\n",
    "\n",
    "#### id is the target forumID, limit is the number of threads needed, pname is the forum name"
   ]
  },
  {
   "cell_type": "code",
   "execution_count": null,
   "metadata": {
    "scrolled": true
   },
   "outputs": [],
   "source": [
    "# code snippet to fetch all the threadIDs for given service\n",
    "\n",
    "id = 186                    # target forumID\n",
    "limit = 25                 # total number of threads\n",
    "pname = \"Amazon Elastic Beanstalk\"  # target product name\n",
    "\n",
    "i = 0\n",
    "\n",
    "while i <= limit:\n",
    "    url = \"https://forums.aws.amazon.com/forum.jspa?forumID=\"+str(id)+\"&start=\"+str(i)\n",
    "    tid = connect(url)\n",
    "    i = i + 25\n",
    "    print(\"Fetched \" + str(i) + \" threads\")"
   ]
  },
  {
   "cell_type": "markdown",
   "metadata": {},
   "source": [
    "### ! ~ Code to fetch the messages from the thread and store in a TSV file  ~ !\n",
    "#### Implements a custom exception to keep the loop running forever"
   ]
  },
  {
   "cell_type": "code",
   "execution_count": null,
   "metadata": {
    "scrolled": true
   },
   "outputs": [],
   "source": [
    "# code snippet to fetch all the message for the corresponding threadID and store in tsv\n",
    "\n",
    "i = 0\n",
    "\n",
    "for i in range (0, len(tid)):\n",
    "        try:\n",
    "            print(\"Processing thread #\" + str(i))\n",
    "            fetch(\"https://forums.aws.amazon.com/\" + tid[i], pname)\n",
    "        except:\n",
    "            time.sleep(5)\n",
    "            i = i - 1\n",
    "        i += 1"
   ]
  },
  {
   "cell_type": "code",
   "execution_count": null,
   "metadata": {},
   "outputs": [],
   "source": [
    "print(i)"
   ]
  }
 ],
 "metadata": {
  "kernelspec": {
   "display_name": "Python 3",
   "language": "python",
   "name": "python3"
  },
  "language_info": {
   "codemirror_mode": {
    "name": "ipython",
    "version": 3
   },
   "file_extension": ".py",
   "mimetype": "text/x-python",
   "name": "python",
   "nbconvert_exporter": "python",
   "pygments_lexer": "ipython3",
   "version": "3.7.3"
  }
 },
 "nbformat": 4,
 "nbformat_minor": 2
}
