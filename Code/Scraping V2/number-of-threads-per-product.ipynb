{
 "cells": [
  {
   "cell_type": "markdown",
   "metadata": {},
   "source": [
    "## Code to scrape each forumID to check how many threads are currently available"
   ]
  },
  {
   "cell_type": "markdown",
   "metadata": {},
   "source": [
    "### Importing the necessary libraries first"
   ]
  },
  {
   "cell_type": "code",
   "execution_count": 1,
   "metadata": {},
   "outputs": [],
   "source": [
    "import requests\n",
    "from bs4 import BeautifulSoup\n",
    "import csv\n",
    "import re"
   ]
  },
  {
   "cell_type": "markdown",
   "metadata": {},
   "source": [
    "### Initialising some global variables first"
   ]
  },
  {
   "cell_type": "code",
   "execution_count": 2,
   "metadata": {},
   "outputs": [],
   "source": [
    "forumIDs = [30, 60, 24, 46, 58, 72, 86, 186]\n",
    "fname = [\"Amazon EC2\", \"Amazon RDS\", \"Amazon S3\", \"Amazon CloudFront\", \"Amazon VPC\", \"Amazon SNS\",\n",
    "         \"Amazon Elastic Beanstalk\", \"Amazon Lambda\"]\n",
    "tlimit = []"
   ]
  },
  {
   "cell_type": "markdown",
   "metadata": {},
   "source": [
    "### Fetch all the messages inside each thread and store it into the final TSV file with tag as the name of the product\n",
    "\n",
    "#### Input: The thread URL and the target file name"
   ]
  },
  {
   "cell_type": "code",
   "execution_count": 3,
   "metadata": {},
   "outputs": [],
   "source": [
    "def updateNumberOfThreads(fid, fname):\n",
    "    headers = {\n",
    "        'User-Agent': 'Mozilla/5.0 (Windows NT 6.1) AppleWebKit/537.36 (KHTML, like Gecko) Chrome/41.0.2228.0 Safari/537.36',\n",
    "    }\n",
    "    url = \"https://forums.aws.amazon.com/forum.jspa?forumID=\" + str(fid)\n",
    "    res = requests.get(url, headers=headers)\n",
    "    res.raise_for_status()\n",
    "    \n",
    "    soup = BeautifulSoup(res.text, 'html.parser')\n",
    "    soup.prettify()\n",
    "    \n",
    "    numberOfThreads = soup.find_all(\"nobr\")\n",
    "    \n",
    "    temp = str(numberOfThreads[1])\n",
    "    temp = temp.replace(\" \", \"\")\n",
    "    temp = temp.replace(\",\", \"\")\n",
    "    \n",
    "    temp = temp.split(\"</span>\")[1]\n",
    "    temp = temp.split(\"</nobr>\")[0]\n",
    "    temp = \" \".join(temp.split())\n",
    "    \n",
    "    print(\"Found match in \" + fname + \": \" + temp)\n",
    "    tlimit.append(temp)"
   ]
  },
  {
   "cell_type": "markdown",
   "metadata": {},
   "source": [
    "### ! ~ Code to fetch the current number of threads present in each forumID and then store in a CSV file  ~ !"
   ]
  },
  {
   "cell_type": "code",
   "execution_count": 4,
   "metadata": {},
   "outputs": [
    {
     "name": "stdout",
     "output_type": "stream",
     "text": [
      "Found match in Amazon EC2: 87483\n",
      "Found match in Amazon RDS: 10472\n",
      "Found match in Amazon S3: 16135\n",
      "Found match in Amazon CloudFront: 5829\n",
      "Found match in Amazon VPC: 6967\n",
      "Found match in Amazon SNS: 1737\n",
      "Found match in Amazon Elastic Beanstalk: 7468\n",
      "Found match in Amazon Lambda: 3158\n"
     ]
    },
    {
     "data": {
      "text/plain": [
       "['87483', '10472', '16135', '5829', '6967', '1737', '7468', '3158']"
      ]
     },
     "execution_count": 4,
     "metadata": {},
     "output_type": "execute_result"
    }
   ],
   "source": [
    "for i in range(0, len(fname)):\n",
    "    updateNumberOfThreads(forumIDs[i], fname[i])\n",
    "tlimit"
   ]
  },
  {
   "cell_type": "code",
   "execution_count": 6,
   "metadata": {},
   "outputs": [],
   "source": [
    "with open('NumberOfThreads.csv', 'w', encoding='utf-8', newline='') as csvfile:\n",
    "    writer = csv.writer(csvfile, delimiter=',')\n",
    "    writer.writerow([\"Name\", \"NumberOfThreads\"])\n",
    "    for i in range(0, len(fname)):\n",
    "        writer.writerow([fname[i], tlimit[i]])"
   ]
  },
  {
   "cell_type": "code",
   "execution_count": null,
   "metadata": {},
   "outputs": [],
   "source": []
  }
 ],
 "metadata": {
  "kernelspec": {
   "display_name": "Python 3",
   "language": "python",
   "name": "python3"
  },
  "language_info": {
   "codemirror_mode": {
    "name": "ipython",
    "version": 3
   },
   "file_extension": ".py",
   "mimetype": "text/x-python",
   "name": "python",
   "nbconvert_exporter": "python",
   "pygments_lexer": "ipython3",
   "version": "3.7.3"
  }
 },
 "nbformat": 4,
 "nbformat_minor": 2
}
