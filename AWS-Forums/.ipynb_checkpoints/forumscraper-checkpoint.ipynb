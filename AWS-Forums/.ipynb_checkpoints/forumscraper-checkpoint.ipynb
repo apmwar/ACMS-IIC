{
 "cells": [
  {
   "cell_type": "code",
   "execution_count": null,
   "metadata": {},
   "outputs": [],
   "source": [
    "# import libraries\n",
    "\n",
    "import requests\n",
    "from bs4 import BeautifulSoup\n",
    "import csv"
   ]
  },
  {
   "cell_type": "code",
   "execution_count": null,
   "metadata": {},
   "outputs": [],
   "source": [
    "# global variables\n",
    "\n",
    "tid = []\n",
    "messages = []\n",
    "subjects = []\n",
    "forumIDs = []"
   ]
  },
  {
   "cell_type": "code",
   "execution_count": null,
   "metadata": {},
   "outputs": [],
   "source": [
    "# function to load the csv file, get the details from it and store it into forumIDs\n",
    "\n",
    "def loadcsv():\n",
    "    with open('ForumID.csv', 'r') as csvFile:\n",
    "        reader = csv.reader(csvFile)\n",
    "        for row in reader:\n",
    "            forumIDs.append(row)"
   ]
  },
  {
   "cell_type": "code",
   "execution_count": null,
   "metadata": {},
   "outputs": [],
   "source": [
    "# function to connect to the given forum ID, retrieve all the threads present within that forum and store it in tid\n",
    "\n",
    "def connect(url):\n",
    "    headers = {\n",
    "        'User-Agent': 'Mozilla/5.0 (Windows NT 6.1) AppleWebKit/537.36 (KHTML, like Gecko) Chrome/41.0.2228.0 Safari/537.36',\n",
    "    }\n",
    "    res = requests.get(url, headers=headers)\n",
    "    res.raise_for_status()\n",
    "    \n",
    "    soup = BeautifulSoup(res.text, 'html.parser')\n",
    "    soup.prettify()\n",
    "\n",
    "    # all threadIDs have the following id\n",
    "    \n",
    "    hrefs = soup.find_all(\"a\", {\"id\": \"jive-thread-0\"})\n",
    "\n",
    "    for href in hrefs:\n",
    "        href = str(href)\n",
    "        href = href.split('href=\"')[1].split(\"&\")[0]\n",
    "        # href of form threads.jspa?threadID=xxx\n",
    "        tid.append(href)\n",
    "    return tid"
   ]
  },
  {
   "cell_type": "code",
   "execution_count": null,
   "metadata": {},
   "outputs": [],
   "source": [
    "# for each thread ID, fetches the messages present within thread\n",
    "\n",
    "def fetch(url, fname):\n",
    "    headers = {\n",
    "        'User-Agent': 'Mozilla/5.0 (Windows NT 6.1) AppleWebKit/537.36 (KHTML, like Gecko) Chrome/41.0.2228.0 Safari/537.36',\n",
    "    }\n",
    "    res = requests.get(url, headers=headers)\n",
    "    res.raise_for_status()\n",
    "    \n",
    "    soup = BeautifulSoup(res.text, 'html.parser')\n",
    "    soup.prettify()\n",
    "    \n",
    "    # all messages have the following subject class\n",
    "    \n",
    "    subs = soup.find_all(\"span\", {\"class\": \"jive-subject\"})\n",
    "    \n",
    "    for line in subs:\n",
    "        subjects.append(line.text.strip())\n",
    "    \n",
    "    # all messages have the following body class\n",
    "    \n",
    "    msgs = soup.find_all(\"div\", {\"class\": \"jive-message-body\"})\n",
    "    \n",
    "    for line in msgs:\n",
    "        msg = line.text.strip()\n",
    "        messages.append(msg)\n",
    "        \n",
    "        with open(fname + '.tsv', 'w', encoding='utf-8') as tsvfile:\n",
    "            writer = csv.writer(tsvfile, delimiter='\\t')\n",
    "            writer.writerow([\"label\", \"description\"])\n",
    "            for i, j in zip(subjects, messages):\n",
    "                writer.writerow([fname, i + \"\\n\" + j])"
   ]
  },
  {
   "cell_type": "code",
   "execution_count": null,
   "metadata": {},
   "outputs": [],
   "source": [
    "loadcsv()"
   ]
  },
  {
   "cell_type": "code",
   "execution_count": null,
   "metadata": {
    "scrolled": false
   },
   "outputs": [],
   "source": []
  },
  {
   "cell_type": "code",
   "execution_count": null,
   "metadata": {},
   "outputs": [],
   "source": [
    "# value of ID is taken directly from the csv file\n",
    "# value of limit is number of threads you want to extract from each service\n",
    "\n",
    "id = 198\n",
    "limit = 99\n",
    "\n",
    "i = 0\n",
    "\n",
    "while i <= limit:\n",
    "    url = \"https://forums.aws.amazon.com/forum.jspa?\"+forumIDs[id-1][1]+\"&start=\"+str(i)\n",
    "    tid = connect(url)\n",
    "    i = i + 25\n",
    "    \n",
    "for thread in tid:\n",
    "    fetch(\"https://forums.aws.amazon.com/\" + thread, forumIDs[id-1][0])"
   ]
  },
  {
   "cell_type": "code",
   "execution_count": null,
   "metadata": {},
   "outputs": [],
   "source": []
  }
 ],
 "metadata": {
  "kernelspec": {
   "display_name": "Python 3",
   "language": "python",
   "name": "python3"
  },
  "language_info": {
   "codemirror_mode": {
    "name": "ipython",
    "version": 3
   },
   "file_extension": ".py",
   "mimetype": "text/x-python",
   "name": "python",
   "nbconvert_exporter": "python",
   "pygments_lexer": "ipython3",
   "version": "3.7.2"
  }
 },
 "nbformat": 4,
 "nbformat_minor": 2
}
